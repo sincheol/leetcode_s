{
 "cells": [
  {
   "cell_type": "code",
   "execution_count": 3,
   "id": "a2fdcf9c-f843-4b3a-8754-67d56844caf5",
   "metadata": {},
   "outputs": [
    {
     "name": "stdin",
     "output_type": "stream",
     "text": [
      "메뉴를 선택해주세요 : 1.작성 2.조회 3.수정 4.삭제 5.추가기능 6.종료 1\n",
      "title : ::\n",
      "content : (종료 : exit) ::\n",
      "content : (종료 : exit) exit\n",
      "비밀번호 설정 하시겠습니까?(y/n) (y) n\n"
     ]
    },
    {
     "name": "stdout",
     "output_type": "stream",
     "text": [
      "1 완료\n"
     ]
    },
    {
     "name": "stdin",
     "output_type": "stream",
     "text": [
      "메뉴를 선택해주세요 : 1.작성 2.조회 3.수정 4.삭제 5.추가기능 6.종료 1\n",
      "title : \n",
      "content : (종료 : exit) exit\n",
      "비밀번호 설정 하시겠습니까?(y/n) (y) n\n"
     ]
    },
    {
     "name": "stdout",
     "output_type": "stream",
     "text": [
      "1 완료\n"
     ]
    },
    {
     "name": "stdin",
     "output_type": "stream",
     "text": [
      "메뉴를 선택해주세요 : 1.작성 2.조회 3.수정 4.삭제 5.추가기능 6.종료 2\n"
     ]
    },
    {
     "name": "stdout",
     "output_type": "stream",
     "text": [
      "조회\n",
      "1 : ::\n",
      "2 : \n"
     ]
    },
    {
     "name": "stdin",
     "output_type": "stream",
     "text": [
      "조회하고 싶은 메모(번호): 2\n"
     ]
    },
    {
     "name": "stdout",
     "output_type": "stream",
     "text": [
      "없는 번호입니다.\n"
     ]
    },
    {
     "name": "stdin",
     "output_type": "stream",
     "text": [
      "메뉴를 선택해주세요 : 1.작성 2.조회 3.수정 4.삭제 5.추가기능 6.종료 6\n"
     ]
    },
    {
     "name": "stdout",
     "output_type": "stream",
     "text": [
      "종료\n"
     ]
    }
   ],
   "source": [
    "'''\n",
    "\n",
    "TODO : 첫 작성 때 메모장이 비었다는 print문이 나옴 손봐야함...\n",
    "삭제시에 비밀번호를 두번 입력해야함... 기능을 추가하면서 작성하다보니 함수들 기능이 너무 재활용하기 힘들어졌음..\n",
    "iterator, generator는 메모리에 한번에 올리지않고 필요한만큼 꺼내서 쓸 수 있다. 즉 메모리를 효율적으로 사용가능\n",
    "여기서는 메모장의 용량이 너무 커져 json을 읽어와 list에 저장할 때 문제가 될 수 있는 것에 적용가능\n",
    "\n",
    "1-5. 비동기 처리 – asyncio를 사용해 병렬 처리 적용\n",
    "\n",
    "-----------------------------------------------------------------------\n",
    "해결\n",
    "decrypt되고 나서 문자열이 제대로 출력되기는 하는데 \\n이 작동을 안해서 줄바꿈이 적용 안됨 -> split의 return은 list type(join으로 해결)\n",
    "비밀번호는 16 24 32 byte만 지원... 해당되는 숫자가 아니면 err로 해결\n",
    "========================================================================\n",
    "예상가능한 err\n",
    "각 기능별로 접근\n",
    "*작성\n",
    "    ***title과 content에 공백을 작성하면 나지 않을까*** \n",
    "    => 없는 번호라고 error.. read_f의 로직이 title과 content가 빈칸이면 벗어난 index를 사용자가 입력했다고 판단하게 되어있어서..\n",
    "*조회 수정 삭제\n",
    "    메모장이 생성되지 않았는데 조회하려 함\n",
    "    idx에 해당되지 않는 숫자 작성 -> 숫자가 아닐수도 있겠다\n",
    "*******사용자가 메모장이름을 \"(잠금) \"으로 시작하는 형태로 작성하면 메모장은 영원히 잠김...ㅋㅋㅋㅋㅋㅋ -> json파일을 하나 더 생성해서 잠김파일을 관리하면 해결됨*******\n",
    "'''\n",
    "import utils\n",
    "c = '작성'\n",
    "r = '조회'\n",
    "u = '수정'\n",
    "d = '삭제'\n",
    "a = '추가기능'\n",
    "e = '종료'\n",
    "while(True):\n",
    "    try:\n",
    "        i = int(input(f'메뉴를 선택해주세요 : 1.{c} 2.{r} 3.{u} 4.{d} 5.{a} 6.{e}'))\n",
    "    except Exception as error:\n",
    "        print(error)\n",
    "        break\n",
    "    if i == 1:\n",
    "        #작성\n",
    "        utils.create_f(i,\"\",\"\")\n",
    "    elif i == 2:\n",
    "        #조회\n",
    "        print(r)\n",
    "        try:\n",
    "            title,content = utils.read_f(r)\n",
    "            print(f'Title : {title}\\n{content}')#내용 출력\n",
    "        except Exception as error:\n",
    "            print(error)\n",
    "            continue\n",
    "        \n",
    "    elif i == 3:\n",
    "        #수정\n",
    "        '''\n",
    "        수정, 삭제의 경우 파일을 한줄씩 읽으면서 tmp파일에 복사함\n",
    "        이때 수정(삭제)되는 파일의 title이면 tmp에 작성하지 않음\n",
    "        os.replace method를 이용해 parsing이 끝나면 원본파일 삭제 후 tmp를 원본 파일이름으로 변경(atomic operation(하나 실패시 모두 실패)임)\n",
    "        '''\n",
    "        print(u)\n",
    "        try:\n",
    "            title, content = utils.read_f(u) #읽어올 번호 입력받아 title content return\n",
    "        except Exception as error:\n",
    "            print(error)\n",
    "            continue\n",
    "        content = utils.write_c() #새로 입력받기\n",
    "        utils.create_f(i, title, content)\n",
    "        \n",
    "    elif i == 4:\n",
    "        #삭제\n",
    "        print(d)\n",
    "        try:\n",
    "            title, content = utils.read_f(d)\n",
    "        except Exception as error:\n",
    "            print(error)\n",
    "            continue\n",
    "        utils.create_f(i,title, content)\n",
    "        print('삭제 완료')\n",
    "    elif i == 5: #없음...\n",
    "        print(a)\n",
    "    elif i == 6: #종료\n",
    "        print(e)\n",
    "        break"
   ]
  },
  {
   "cell_type": "code",
   "execution_count": 6,
   "id": "1e714d25-f24c-4483-b0f2-20e0521afd18",
   "metadata": {},
   "outputs": [
    {
     "name": "stdout",
     "output_type": "stream",
     "text": [
      "ㅅㄷㄴㅅ\n",
      "test2\n",
      "test3\n",
      "test5\n",
      "test\n"
     ]
    }
   ],
   "source": [
    "# 먼저 라이브러리를 설치해야 합니다: pip install ijson\n",
    "import ijson\n",
    "\n",
    "def read_large_json_array(file_path)->None:\n",
    "    \"\"\"\n",
    "    ijson을 사용하여 큰 JSON 배열을 스트리밍 방식으로 처리합니다.\n",
    "    \"\"\"\n",
    "    with open(file_path, 'rb') as f:  # ijson은 바이너리 모드로 파일을 엽니다.\n",
    "        # 'item'은 배열의 각 요소를 의미\n",
    "        parser = ijson.items(f, 'item') #'item은 각 요소를 나타내는 keyword'\n",
    "        for item in parser:\n",
    "            yield item\n",
    "\n",
    "# 제너레이터를 사용하여 한 번에 한 객체씩 처리\n",
    "for record in read_large_json_array('data.json'):\n",
    "    print(record['title'])\n",
    "    # 각 레코드 처리 로직"
   ]
  },
  {
   "cell_type": "code",
   "execution_count": 46,
   "id": "f87822a3-68ba-4f98-8e35-beec2ac7a130",
   "metadata": {},
   "outputs": [],
   "source": [
    "import ijson\n",
    "from typing import Tuple\n",
    "def read_memo(n = 0)->None:\n",
    "    if n== 0:\n",
    "        f_name = 'data.json'\n",
    "        if os.path.exists(f_name):\n",
    "            with open ('data.json', 'rb') as file:\n",
    "                parser = ijson.items(file,'item') #item은 각 요소를 나타내는 keyword / 여기서는 data의 각 dict를 뽑는거\n",
    "                for memo in parser:\n",
    "                    yield memo\n",
    "        else:\n",
    "            print('메모장이 비어있습니다.')\n",
    "\n",
    "def read_f(a:str)->Tuple[str,str]:\n",
    "    tmp = 0\n",
    "    title = content = \"\"\n",
    "    for memo in read_memo(): #generator기 때문에 매번 호출 해줘야 함... \n",
    "        tmp += 1\n",
    "        print(f\"{tmp} : {memo['title']}\")\n",
    "        \n",
    "    if tmp==0:\n",
    "        print('메모장이 비어있습니다.')\n",
    "        return 0, list(), \"\", \"\"\n",
    "\n",
    "    try:\n",
    "        n = int(input(f'{a}하고 싶은 메모(번호):')) #번호 선택 하겠지\n",
    "        tmp = 0\n",
    "        for memo in read_memo():\n",
    "            tmp += 1\n",
    "            if tmp == n:\n",
    "                title = memo['title']\n",
    "                content = memo['content']\n",
    "    except Exception as error:\n",
    "        print(error)\n",
    "        return \"\",\"\"\n",
    "\n",
    "    if title.split(' ')[0]=='(잠금)':\n",
    "        while(True):\n",
    "            pwd = input('비밀번호를 입력하세요')\n",
    "            if len(pwd)!=(16 or 24 or 32):\n",
    "                print('잘못 입력하셨습니다.')\n",
    "                return \"\", \"\"\n",
    "            content = decrypt(content, pwd)\n",
    "            if(content.split(' ')[0]=='rightpwd'):\n",
    "                break\n",
    "            else:\n",
    "                print('잘못 입력하셨습니다.')\n",
    "                return 0, list(), \"\", \"\"\n",
    "        title = \"\".join(title.split(' ')[1:])\n",
    "        content = \"\".join(content.split(' ')[1:])\n",
    "\n",
    "    return title, content #선택한 idx가 필요하니 return 해줌"
   ]
  },
  {
   "cell_type": "code",
   "execution_count": 47,
   "id": "a6ed4b38-4c52-44cc-92e8-f07a1062fa15",
   "metadata": {},
   "outputs": [
    {
     "name": "stdout",
     "output_type": "stream",
     "text": [
      "1 : ㅅㄷㄴㅅ\n",
      "2 : test2\n",
      "3 : test3\n",
      "4 : test5\n",
      "5 : test\n",
      "6 : (잠금) test15124124\n"
     ]
    },
    {
     "name": "stdin",
     "output_type": "stream",
     "text": [
      "조회하고 싶은 메모(번호): 6\n",
      "비밀번호를 입력하세요 testtesttesttest\n"
     ]
    },
    {
     "data": {
      "text/plain": [
       "('test15124124', 'sdafkljsadlfkjsadklf\\n')"
      ]
     },
     "execution_count": 47,
     "metadata": {},
     "output_type": "execute_result"
    }
   ],
   "source": [
    "read_f('조회')"
   ]
  },
  {
   "cell_type": "code",
   "execution_count": 42,
   "id": "17cbe45d-518d-487d-9249-2c239fc988d8",
   "metadata": {},
   "outputs": [],
   "source": [
    "import json\n",
    "import os\n",
    "from typing import Tuple\n",
    "from Crypto.Cipher import AES\n",
    "from Crypto.Random import get_random_bytes\n",
    "from base64 import b64encode, b64decode\n",
    "'''\n",
    "함수 모음\n",
    "'''\n",
    "\n",
    "def pad(text:str)->str:\n",
    "    return text + (16 - len(text) % 16) * chr(16 - len(text) % 16)\n",
    "\n",
    "def unpad(text:str)->str:\n",
    "    return text[:-ord(text[-1])]\n",
    "\n",
    "def encrypt(data:str, secretKey:str)->str:\n",
    "    data = pad(data)\n",
    "    secretKey = secretKey.encode('utf-8')\n",
    "    cipher = AES.new(secretKey, AES.MODE_CBC)\n",
    "    ct_bytes = cipher.encrypt(data.encode('utf-8'))\n",
    "    iv = b64encode(cipher.iv).decode('utf-8')\n",
    "    ct = b64encode(ct_bytes).decode('utf-8')\n",
    "    return iv + ct\n",
    "\n",
    "def decrypt(encryptedData:str, secretKey:str)->str:\n",
    "    secretKey = secretKey.encode('utf-8')\n",
    "    iv = encryptedData[:24]\n",
    "    ct = encryptedData[24:]\n",
    "    iv = b64decode(iv)\n",
    "    ct = b64decode(ct)\n",
    "    cipher = AES.new(secretKey, AES.MODE_CBC, iv)\n",
    "    pt = unpad(cipher.decrypt(ct).decode('utf-8'))\n",
    "    return pt\n"
   ]
  },
  {
   "cell_type": "code",
   "execution_count": null,
   "id": "78b73285-f412-427c-83be-4c46696f0981",
   "metadata": {},
   "outputs": [],
   "source": []
  }
 ],
 "metadata": {
  "kernelspec": {
   "display_name": "env_ktbai",
   "language": "python",
   "name": "env_ktbai"
  },
  "language_info": {
   "codemirror_mode": {
    "name": "ipython",
    "version": 3
   },
   "file_extension": ".py",
   "mimetype": "text/x-python",
   "name": "python",
   "nbconvert_exporter": "python",
   "pygments_lexer": "ipython3",
   "version": "3.13.7"
  }
 },
 "nbformat": 4,
 "nbformat_minor": 5
}

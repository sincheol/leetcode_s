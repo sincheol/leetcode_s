{
 "cells": [
  {
   "cell_type": "markdown",
   "id": "67b875ca-6b4b-4512-bb84-d4ddf2324906",
   "metadata": {},
   "source": [
    "# 과제"
   ]
  },
  {
   "cell_type": "code",
   "execution_count": 12,
   "id": "5cfec06b-93f9-4c36-afc4-ce81d0be3264",
   "metadata": {},
   "outputs": [
    {
     "data": {
      "text/plain": [
       "array([[1, 2, 3],\n",
       "       [4, 5, 6],\n",
       "       [7, 8, 9]])"
      ]
     },
     "execution_count": 12,
     "metadata": {},
     "output_type": "execute_result"
    }
   ],
   "source": [
    "import numpy as np\n",
    "n_arr = np.arange(1,10).reshape(3,3)\n",
    "n_arr"
   ]
  },
  {
   "cell_type": "code",
   "execution_count": 13,
   "id": "7475222b-9864-4a7b-b0f9-6446253a3cdb",
   "metadata": {},
   "outputs": [
    {
     "data": {
      "text/plain": [
       "array([[0.73456283, 0.35763926, 0.42065253, 0.9001121 , 0.99326098],\n",
       "       [0.26291897, 0.35978699, 0.9247128 , 0.99872457, 0.85031046]])"
      ]
     },
     "execution_count": 13,
     "metadata": {},
     "output_type": "execute_result"
    }
   ],
   "source": [
    "import random\n",
    "r_arr = np.array([random.random() for _ in range(10)]).reshape(2,5)\n",
    "r_arr"
   ]
  },
  {
   "cell_type": "code",
   "execution_count": 14,
   "id": "01828013-6394-44bb-b54e-e0700726bd21",
   "metadata": {},
   "outputs": [
    {
     "name": "stdout",
     "output_type": "stream",
     "text": [
      "자연수 배열 총합 : 45\n",
      "실수 배열 총합 : 6.802681492483883\n",
      "자연수 배열 평균 : 5.0\n",
      "실수 배열 평균 : 0.6802681492483883\n"
     ]
    }
   ],
   "source": [
    "print(f'자연수 배열 총합 : {n_arr.sum()}')\n",
    "print(f'실수 배열 총합 : {r_arr.sum()}')\n",
    "print(f'자연수 배열 평균 : {n_arr.mean()}')\n",
    "print(f'실수 배열 평균 : {r_arr.mean()}')"
   ]
  },
  {
   "cell_type": "code",
   "execution_count": 15,
   "id": "2dc86419-1c23-487b-9516-0c562f599d8a",
   "metadata": {},
   "outputs": [
    {
     "name": "stdout",
     "output_type": "stream",
     "text": [
      "[ 38  83 128]\n"
     ]
    }
   ],
   "source": [
    "n_arr_diag = np.diag(n_arr)\n",
    "print(n_arr@n_arr_diag)"
   ]
  },
  {
   "cell_type": "code",
   "execution_count": 16,
   "id": "eb4ac514-0125-44cf-aa2b-52c8e76f37ce",
   "metadata": {},
   "outputs": [],
   "source": [
    "import pandas as pd"
   ]
  },
  {
   "cell_type": "code",
   "execution_count": 17,
   "id": "48425153-eaec-4b64-99c7-8884dabecd85",
   "metadata": {},
   "outputs": [],
   "source": [
    "dic = {\n",
    "    'Name': ['Alice', 'Bob', None, 'Charlie'],\n",
    "    'Age': [25, None, 28, 35],\n",
    "    'City': ['New York', None, 'Chicago', None]\n",
    "}\n"
   ]
  },
  {
   "cell_type": "code",
   "execution_count": 18,
   "id": "d3ec1246-81af-4bb9-a374-1c6b82574c1f",
   "metadata": {},
   "outputs": [
    {
     "data": {
      "text/html": [
       "<div>\n",
       "<style scoped>\n",
       "    .dataframe tbody tr th:only-of-type {\n",
       "        vertical-align: middle;\n",
       "    }\n",
       "\n",
       "    .dataframe tbody tr th {\n",
       "        vertical-align: top;\n",
       "    }\n",
       "\n",
       "    .dataframe thead th {\n",
       "        text-align: right;\n",
       "    }\n",
       "</style>\n",
       "<table border=\"1\" class=\"dataframe\">\n",
       "  <thead>\n",
       "    <tr style=\"text-align: right;\">\n",
       "      <th></th>\n",
       "      <th>Name</th>\n",
       "      <th>Age</th>\n",
       "      <th>City</th>\n",
       "    </tr>\n",
       "  </thead>\n",
       "  <tbody>\n",
       "    <tr>\n",
       "      <th>0</th>\n",
       "      <td>Alice</td>\n",
       "      <td>25.0</td>\n",
       "      <td>New York</td>\n",
       "    </tr>\n",
       "    <tr>\n",
       "      <th>1</th>\n",
       "      <td>Bob</td>\n",
       "      <td>NaN</td>\n",
       "      <td>None</td>\n",
       "    </tr>\n",
       "    <tr>\n",
       "      <th>2</th>\n",
       "      <td>None</td>\n",
       "      <td>28.0</td>\n",
       "      <td>Chicago</td>\n",
       "    </tr>\n",
       "    <tr>\n",
       "      <th>3</th>\n",
       "      <td>Charlie</td>\n",
       "      <td>35.0</td>\n",
       "      <td>None</td>\n",
       "    </tr>\n",
       "  </tbody>\n",
       "</table>\n",
       "</div>"
      ],
      "text/plain": [
       "      Name   Age      City\n",
       "0    Alice  25.0  New York\n",
       "1      Bob   NaN      None\n",
       "2     None  28.0   Chicago\n",
       "3  Charlie  35.0      None"
      ]
     },
     "execution_count": 18,
     "metadata": {},
     "output_type": "execute_result"
    }
   ],
   "source": [
    "df = pd.DataFrame.from_dict(dic)\n",
    "df"
   ]
  },
  {
   "cell_type": "code",
   "execution_count": 19,
   "id": "8699adfb-e9d1-4fc5-8e15-22efb8081343",
   "metadata": {},
   "outputs": [],
   "source": [
    "df['Name'] = df['Name'].fillna('Unknown')\n",
    "df['Age'] = df['Age'].fillna(df['Age'].mean())\n",
    "# df = df.fillna({'Name':'Unknown', 'Age':df['Age'].mean()})"
   ]
  },
  {
   "cell_type": "code",
   "execution_count": 20,
   "id": "40eade45-ce21-4dc7-86ff-8472f91183d1",
   "metadata": {},
   "outputs": [
    {
     "data": {
      "text/html": [
       "<div>\n",
       "<style scoped>\n",
       "    .dataframe tbody tr th:only-of-type {\n",
       "        vertical-align: middle;\n",
       "    }\n",
       "\n",
       "    .dataframe tbody tr th {\n",
       "        vertical-align: top;\n",
       "    }\n",
       "\n",
       "    .dataframe thead th {\n",
       "        text-align: right;\n",
       "    }\n",
       "</style>\n",
       "<table border=\"1\" class=\"dataframe\">\n",
       "  <thead>\n",
       "    <tr style=\"text-align: right;\">\n",
       "      <th></th>\n",
       "      <th>Name</th>\n",
       "      <th>Age</th>\n",
       "      <th>City</th>\n",
       "    </tr>\n",
       "  </thead>\n",
       "  <tbody>\n",
       "    <tr>\n",
       "      <th>0</th>\n",
       "      <td>Alice</td>\n",
       "      <td>25.000000</td>\n",
       "      <td>New York</td>\n",
       "    </tr>\n",
       "    <tr>\n",
       "      <th>1</th>\n",
       "      <td>Bob</td>\n",
       "      <td>29.333333</td>\n",
       "      <td>None</td>\n",
       "    </tr>\n",
       "    <tr>\n",
       "      <th>2</th>\n",
       "      <td>Unknown</td>\n",
       "      <td>28.000000</td>\n",
       "      <td>Chicago</td>\n",
       "    </tr>\n",
       "    <tr>\n",
       "      <th>3</th>\n",
       "      <td>Charlie</td>\n",
       "      <td>35.000000</td>\n",
       "      <td>None</td>\n",
       "    </tr>\n",
       "  </tbody>\n",
       "</table>\n",
       "</div>"
      ],
      "text/plain": [
       "      Name        Age      City\n",
       "0    Alice  25.000000  New York\n",
       "1      Bob  29.333333      None\n",
       "2  Unknown  28.000000   Chicago\n",
       "3  Charlie  35.000000      None"
      ]
     },
     "execution_count": 20,
     "metadata": {},
     "output_type": "execute_result"
    }
   ],
   "source": [
    "df"
   ]
  },
  {
   "cell_type": "code",
   "execution_count": 21,
   "id": "4a8716d9-8a78-4981-8c0c-e33c1ef5ae7c",
   "metadata": {},
   "outputs": [],
   "source": [
    "import requests\n",
    "import json\n",
    "re = requests.get('https://jsonplaceholder.typicode.com/todos')"
   ]
  },
  {
   "cell_type": "code",
   "execution_count": 22,
   "id": "5d8daa45-d745-42c5-993c-7d1c009102a1",
   "metadata": {
    "scrolled": true
   },
   "outputs": [
    {
     "name": "stdout",
     "output_type": "stream",
     "text": [
      "[{'userId': 1, 'id': 1, 'title': 'delectus aut autem', 'completed': False}, {'userId': 1, 'id': 2, 'title': 'quis ut nam facilis et officia qui', 'completed': False}, {'userId': 1, 'id': 3, 'title': 'fugiat veniam minus', 'completed': False}, {'userId': 1, 'id': 4, 'title': 'et porro tempora', 'completed': True}, {'userId': 1, 'id': 5, 'title': 'laboriosam mollitia et enim quasi adipisci quia provident illum', 'completed': False}, {'userId': 1, 'id': 6, 'title': 'qui ullam ratione quibusdam voluptatem quia omnis', 'completed': False}, {'userId': 1, 'id': 7, 'title': 'illo expedita consequatur quia in', 'completed': False}, {'userId': 1, 'id': 8, 'title': 'quo adipisci enim quam ut ab', 'completed': True}, {'userId': 1, 'id': 9, 'title': 'molestiae perspiciatis ipsa', 'completed': False}, {'userId': 1, 'id': 10, 'title': 'illo est ratione doloremque quia maiores aut', 'completed': True}, {'userId': 1, 'id': 11, 'title': 'vero rerum temporibus dolor', 'completed': True}, {'userId': 1, 'id': 12, 'title': 'ipsa repellendus fugit nisi', 'completed': True}, {'userId': 1, 'id': 13, 'title': 'et doloremque nulla', 'completed': False}, {'userId': 1, 'id': 14, 'title': 'repellendus sunt dolores architecto voluptatum', 'completed': True}, {'userId': 1, 'id': 15, 'title': 'ab voluptatum amet voluptas', 'completed': True}, {'userId': 1, 'id': 16, 'title': 'accusamus eos facilis sint et aut voluptatem', 'completed': True}, {'userId': 1, 'id': 17, 'title': 'quo laboriosam deleniti aut qui', 'completed': True}, {'userId': 1, 'id': 18, 'title': 'dolorum est consequatur ea mollitia in culpa', 'completed': False}, {'userId': 1, 'id': 19, 'title': 'molestiae ipsa aut voluptatibus pariatur dolor nihil', 'completed': True}, {'userId': 1, 'id': 20, 'title': 'ullam nobis libero sapiente ad optio sint', 'completed': True}, {'userId': 2, 'id': 21, 'title': 'suscipit repellat esse quibusdam voluptatem incidunt', 'completed': False}, {'userId': 2, 'id': 22, 'title': 'distinctio vitae autem nihil ut molestias quo', 'completed': True}, {'userId': 2, 'id': 23, 'title': 'et itaque necessitatibus maxime molestiae qui quas velit', 'completed': False}, {'userId': 2, 'id': 24, 'title': 'adipisci non ad dicta qui amet quaerat doloribus ea', 'completed': False}, {'userId': 2, 'id': 25, 'title': 'voluptas quo tenetur perspiciatis explicabo natus', 'completed': True}, {'userId': 2, 'id': 26, 'title': 'aliquam aut quasi', 'completed': True}, {'userId': 2, 'id': 27, 'title': 'veritatis pariatur delectus', 'completed': True}, {'userId': 2, 'id': 28, 'title': 'nesciunt totam sit blanditiis sit', 'completed': False}, {'userId': 2, 'id': 29, 'title': 'laborum aut in quam', 'completed': False}, {'userId': 2, 'id': 30, 'title': 'nemo perspiciatis repellat ut dolor libero commodi blanditiis omnis', 'completed': True}, {'userId': 2, 'id': 31, 'title': 'repudiandae totam in est sint facere fuga', 'completed': False}, {'userId': 2, 'id': 32, 'title': 'earum doloribus ea doloremque quis', 'completed': False}, {'userId': 2, 'id': 33, 'title': 'sint sit aut vero', 'completed': False}, {'userId': 2, 'id': 34, 'title': 'porro aut necessitatibus eaque distinctio', 'completed': False}, {'userId': 2, 'id': 35, 'title': 'repellendus veritatis molestias dicta incidunt', 'completed': True}, {'userId': 2, 'id': 36, 'title': 'excepturi deleniti adipisci voluptatem et neque optio illum ad', 'completed': True}, {'userId': 2, 'id': 37, 'title': 'sunt cum tempora', 'completed': False}, {'userId': 2, 'id': 38, 'title': 'totam quia non', 'completed': False}, {'userId': 2, 'id': 39, 'title': 'doloremque quibusdam asperiores libero corrupti illum qui omnis', 'completed': False}, {'userId': 2, 'id': 40, 'title': 'totam atque quo nesciunt', 'completed': True}, {'userId': 3, 'id': 41, 'title': 'aliquid amet impedit consequatur aspernatur placeat eaque fugiat suscipit', 'completed': False}, {'userId': 3, 'id': 42, 'title': 'rerum perferendis error quia ut eveniet', 'completed': False}, {'userId': 3, 'id': 43, 'title': 'tempore ut sint quis recusandae', 'completed': True}, {'userId': 3, 'id': 44, 'title': 'cum debitis quis accusamus doloremque ipsa natus sapiente omnis', 'completed': True}, {'userId': 3, 'id': 45, 'title': 'velit soluta adipisci molestias reiciendis harum', 'completed': False}, {'userId': 3, 'id': 46, 'title': 'vel voluptatem repellat nihil placeat corporis', 'completed': False}, {'userId': 3, 'id': 47, 'title': 'nam qui rerum fugiat accusamus', 'completed': False}, {'userId': 3, 'id': 48, 'title': 'sit reprehenderit omnis quia', 'completed': False}, {'userId': 3, 'id': 49, 'title': 'ut necessitatibus aut maiores debitis officia blanditiis velit et', 'completed': False}, {'userId': 3, 'id': 50, 'title': 'cupiditate necessitatibus ullam aut quis dolor voluptate', 'completed': True}, {'userId': 3, 'id': 51, 'title': 'distinctio exercitationem ab doloribus', 'completed': False}, {'userId': 3, 'id': 52, 'title': 'nesciunt dolorum quis recusandae ad pariatur ratione', 'completed': False}, {'userId': 3, 'id': 53, 'title': 'qui labore est occaecati recusandae aliquid quam', 'completed': False}, {'userId': 3, 'id': 54, 'title': 'quis et est ut voluptate quam dolor', 'completed': True}, {'userId': 3, 'id': 55, 'title': 'voluptatum omnis minima qui occaecati provident nulla voluptatem ratione', 'completed': True}, {'userId': 3, 'id': 56, 'title': 'deleniti ea temporibus enim', 'completed': True}, {'userId': 3, 'id': 57, 'title': 'pariatur et magnam ea doloribus similique voluptatem rerum quia', 'completed': False}, {'userId': 3, 'id': 58, 'title': 'est dicta totam qui explicabo doloribus qui dignissimos', 'completed': False}, {'userId': 3, 'id': 59, 'title': 'perspiciatis velit id laborum placeat iusto et aliquam odio', 'completed': False}, {'userId': 3, 'id': 60, 'title': 'et sequi qui architecto ut adipisci', 'completed': True}, {'userId': 4, 'id': 61, 'title': 'odit optio omnis qui sunt', 'completed': True}, {'userId': 4, 'id': 62, 'title': 'et placeat et tempore aspernatur sint numquam', 'completed': False}, {'userId': 4, 'id': 63, 'title': 'doloremque aut dolores quidem fuga qui nulla', 'completed': True}, {'userId': 4, 'id': 64, 'title': 'voluptas consequatur qui ut quia magnam nemo esse', 'completed': False}, {'userId': 4, 'id': 65, 'title': 'fugiat pariatur ratione ut asperiores necessitatibus magni', 'completed': False}, {'userId': 4, 'id': 66, 'title': 'rerum eum molestias autem voluptatum sit optio', 'completed': False}, {'userId': 4, 'id': 67, 'title': 'quia voluptatibus voluptatem quos similique maiores repellat', 'completed': False}, {'userId': 4, 'id': 68, 'title': 'aut id perspiciatis voluptatem iusto', 'completed': False}, {'userId': 4, 'id': 69, 'title': 'doloribus sint dolorum ab adipisci itaque dignissimos aliquam suscipit', 'completed': False}, {'userId': 4, 'id': 70, 'title': 'ut sequi accusantium et mollitia delectus sunt', 'completed': False}, {'userId': 4, 'id': 71, 'title': 'aut velit saepe ullam', 'completed': False}, {'userId': 4, 'id': 72, 'title': 'praesentium facilis facere quis harum voluptatibus voluptatem eum', 'completed': False}, {'userId': 4, 'id': 73, 'title': 'sint amet quia totam corporis qui exercitationem commodi', 'completed': True}, {'userId': 4, 'id': 74, 'title': 'expedita tempore nobis eveniet laborum maiores', 'completed': False}, {'userId': 4, 'id': 75, 'title': 'occaecati adipisci est possimus totam', 'completed': False}, {'userId': 4, 'id': 76, 'title': 'sequi dolorem sed', 'completed': True}, {'userId': 4, 'id': 77, 'title': 'maiores aut nesciunt delectus exercitationem vel assumenda eligendi at', 'completed': False}, {'userId': 4, 'id': 78, 'title': 'reiciendis est magnam amet nemo iste recusandae impedit quaerat', 'completed': False}, {'userId': 4, 'id': 79, 'title': 'eum ipsa maxime ut', 'completed': True}, {'userId': 4, 'id': 80, 'title': 'tempore molestias dolores rerum sequi voluptates ipsum consequatur', 'completed': True}, {'userId': 5, 'id': 81, 'title': 'suscipit qui totam', 'completed': True}, {'userId': 5, 'id': 82, 'title': 'voluptates eum voluptas et dicta', 'completed': False}, {'userId': 5, 'id': 83, 'title': 'quidem at rerum quis ex aut sit quam', 'completed': True}, {'userId': 5, 'id': 84, 'title': 'sunt veritatis ut voluptate', 'completed': False}, {'userId': 5, 'id': 85, 'title': 'et quia ad iste a', 'completed': True}, {'userId': 5, 'id': 86, 'title': 'incidunt ut saepe autem', 'completed': True}, {'userId': 5, 'id': 87, 'title': 'laudantium quae eligendi consequatur quia et vero autem', 'completed': True}, {'userId': 5, 'id': 88, 'title': 'vitae aut excepturi laboriosam sint aliquam et et accusantium', 'completed': False}, {'userId': 5, 'id': 89, 'title': 'sequi ut omnis et', 'completed': True}, {'userId': 5, 'id': 90, 'title': 'molestiae nisi accusantium tenetur dolorem et', 'completed': True}, {'userId': 5, 'id': 91, 'title': 'nulla quis consequatur saepe qui id expedita', 'completed': True}, {'userId': 5, 'id': 92, 'title': 'in omnis laboriosam', 'completed': True}, {'userId': 5, 'id': 93, 'title': 'odio iure consequatur molestiae quibusdam necessitatibus quia sint', 'completed': True}, {'userId': 5, 'id': 94, 'title': 'facilis modi saepe mollitia', 'completed': False}, {'userId': 5, 'id': 95, 'title': 'vel nihil et molestiae iusto assumenda nemo quo ut', 'completed': True}, {'userId': 5, 'id': 96, 'title': 'nobis suscipit ducimus enim asperiores voluptas', 'completed': False}, {'userId': 5, 'id': 97, 'title': 'dolorum laboriosam eos qui iure aliquam', 'completed': False}, {'userId': 5, 'id': 98, 'title': 'debitis accusantium ut quo facilis nihil quis sapiente necessitatibus', 'completed': True}, {'userId': 5, 'id': 99, 'title': 'neque voluptates ratione', 'completed': False}, {'userId': 5, 'id': 100, 'title': 'excepturi a et neque qui expedita vel voluptate', 'completed': False}, {'userId': 6, 'id': 101, 'title': 'explicabo enim cumque porro aperiam occaecati minima', 'completed': False}, {'userId': 6, 'id': 102, 'title': 'sed ab consequatur', 'completed': False}, {'userId': 6, 'id': 103, 'title': 'non sunt delectus illo nulla tenetur enim omnis', 'completed': False}, {'userId': 6, 'id': 104, 'title': 'excepturi non laudantium quo', 'completed': False}, {'userId': 6, 'id': 105, 'title': 'totam quia dolorem et illum repellat voluptas optio', 'completed': True}, {'userId': 6, 'id': 106, 'title': 'ad illo quis voluptatem temporibus', 'completed': True}, {'userId': 6, 'id': 107, 'title': 'praesentium facilis omnis laudantium fugit ad iusto nihil nesciunt', 'completed': False}, {'userId': 6, 'id': 108, 'title': 'a eos eaque nihil et exercitationem incidunt delectus', 'completed': True}, {'userId': 6, 'id': 109, 'title': 'autem temporibus harum quisquam in culpa', 'completed': True}, {'userId': 6, 'id': 110, 'title': 'aut aut ea corporis', 'completed': True}, {'userId': 6, 'id': 111, 'title': 'magni accusantium labore et id quis provident', 'completed': False}, {'userId': 6, 'id': 112, 'title': 'consectetur impedit quisquam qui deserunt non rerum consequuntur eius', 'completed': False}, {'userId': 6, 'id': 113, 'title': 'quia atque aliquam sunt impedit voluptatum rerum assumenda nisi', 'completed': False}, {'userId': 6, 'id': 114, 'title': 'cupiditate quos possimus corporis quisquam exercitationem beatae', 'completed': False}, {'userId': 6, 'id': 115, 'title': 'sed et ea eum', 'completed': False}, {'userId': 6, 'id': 116, 'title': 'ipsa dolores vel facilis ut', 'completed': True}, {'userId': 6, 'id': 117, 'title': 'sequi quae est et qui qui eveniet asperiores', 'completed': False}, {'userId': 6, 'id': 118, 'title': 'quia modi consequatur vero fugiat', 'completed': False}, {'userId': 6, 'id': 119, 'title': 'corporis ducimus ea perspiciatis iste', 'completed': False}, {'userId': 6, 'id': 120, 'title': 'dolorem laboriosam vel voluptas et aliquam quasi', 'completed': False}, {'userId': 7, 'id': 121, 'title': 'inventore aut nihil minima laudantium hic qui omnis', 'completed': True}, {'userId': 7, 'id': 122, 'title': 'provident aut nobis culpa', 'completed': True}, {'userId': 7, 'id': 123, 'title': 'esse et quis iste est earum aut impedit', 'completed': False}, {'userId': 7, 'id': 124, 'title': 'qui consectetur id', 'completed': False}, {'userId': 7, 'id': 125, 'title': 'aut quasi autem iste tempore illum possimus', 'completed': False}, {'userId': 7, 'id': 126, 'title': 'ut asperiores perspiciatis veniam ipsum rerum saepe', 'completed': True}, {'userId': 7, 'id': 127, 'title': 'voluptatem libero consectetur rerum ut', 'completed': True}, {'userId': 7, 'id': 128, 'title': 'eius omnis est qui voluptatem autem', 'completed': False}, {'userId': 7, 'id': 129, 'title': 'rerum culpa quis harum', 'completed': False}, {'userId': 7, 'id': 130, 'title': 'nulla aliquid eveniet harum laborum libero alias ut unde', 'completed': True}, {'userId': 7, 'id': 131, 'title': 'qui ea incidunt quis', 'completed': False}, {'userId': 7, 'id': 132, 'title': 'qui molestiae voluptatibus velit iure harum quisquam', 'completed': True}, {'userId': 7, 'id': 133, 'title': 'et labore eos enim rerum consequatur sunt', 'completed': True}, {'userId': 7, 'id': 134, 'title': 'molestiae doloribus et laborum quod ea', 'completed': False}, {'userId': 7, 'id': 135, 'title': 'facere ipsa nam eum voluptates reiciendis vero qui', 'completed': False}, {'userId': 7, 'id': 136, 'title': 'asperiores illo tempora fuga sed ut quasi adipisci', 'completed': False}, {'userId': 7, 'id': 137, 'title': 'qui sit non', 'completed': False}, {'userId': 7, 'id': 138, 'title': 'placeat minima consequatur rem qui ut', 'completed': True}, {'userId': 7, 'id': 139, 'title': 'consequatur doloribus id possimus voluptas a voluptatem', 'completed': False}, {'userId': 7, 'id': 140, 'title': 'aut consectetur in blanditiis deserunt quia sed laboriosam', 'completed': True}, {'userId': 8, 'id': 141, 'title': 'explicabo consectetur debitis voluptates quas quae culpa rerum non', 'completed': True}, {'userId': 8, 'id': 142, 'title': 'maiores accusantium architecto necessitatibus reiciendis ea aut', 'completed': True}, {'userId': 8, 'id': 143, 'title': 'eum non recusandae cupiditate animi', 'completed': False}, {'userId': 8, 'id': 144, 'title': 'ut eum exercitationem sint', 'completed': False}, {'userId': 8, 'id': 145, 'title': 'beatae qui ullam incidunt voluptatem non nisi aliquam', 'completed': False}, {'userId': 8, 'id': 146, 'title': 'molestiae suscipit ratione nihil odio libero impedit vero totam', 'completed': True}, {'userId': 8, 'id': 147, 'title': 'eum itaque quod reprehenderit et facilis dolor autem ut', 'completed': True}, {'userId': 8, 'id': 148, 'title': 'esse quas et quo quasi exercitationem', 'completed': False}, {'userId': 8, 'id': 149, 'title': 'animi voluptas quod perferendis est', 'completed': False}, {'userId': 8, 'id': 150, 'title': 'eos amet tempore laudantium fugit a', 'completed': False}, {'userId': 8, 'id': 151, 'title': 'accusamus adipisci dicta qui quo ea explicabo sed vero', 'completed': True}, {'userId': 8, 'id': 152, 'title': 'odit eligendi recusandae doloremque cumque non', 'completed': False}, {'userId': 8, 'id': 153, 'title': 'ea aperiam consequatur qui repellat eos', 'completed': False}, {'userId': 8, 'id': 154, 'title': 'rerum non ex sapiente', 'completed': True}, {'userId': 8, 'id': 155, 'title': 'voluptatem nobis consequatur et assumenda magnam', 'completed': True}, {'userId': 8, 'id': 156, 'title': 'nam quia quia nulla repellat assumenda quibusdam sit nobis', 'completed': True}, {'userId': 8, 'id': 157, 'title': 'dolorem veniam quisquam deserunt repellendus', 'completed': True}, {'userId': 8, 'id': 158, 'title': 'debitis vitae delectus et harum accusamus aut deleniti a', 'completed': True}, {'userId': 8, 'id': 159, 'title': 'debitis adipisci quibusdam aliquam sed dolore ea praesentium nobis', 'completed': True}, {'userId': 8, 'id': 160, 'title': 'et praesentium aliquam est', 'completed': False}, {'userId': 9, 'id': 161, 'title': 'ex hic consequuntur earum omnis alias ut occaecati culpa', 'completed': True}, {'userId': 9, 'id': 162, 'title': 'omnis laboriosam molestias animi sunt dolore', 'completed': True}, {'userId': 9, 'id': 163, 'title': 'natus corrupti maxime laudantium et voluptatem laboriosam odit', 'completed': False}, {'userId': 9, 'id': 164, 'title': 'reprehenderit quos aut aut consequatur est sed', 'completed': False}, {'userId': 9, 'id': 165, 'title': 'fugiat perferendis sed aut quidem', 'completed': False}, {'userId': 9, 'id': 166, 'title': 'quos quo possimus suscipit minima ut', 'completed': False}, {'userId': 9, 'id': 167, 'title': 'et quis minus quo a asperiores molestiae', 'completed': False}, {'userId': 9, 'id': 168, 'title': 'recusandae quia qui sunt libero', 'completed': False}, {'userId': 9, 'id': 169, 'title': 'ea odio perferendis officiis', 'completed': True}, {'userId': 9, 'id': 170, 'title': 'quisquam aliquam quia doloribus aut', 'completed': False}, {'userId': 9, 'id': 171, 'title': 'fugiat aut voluptatibus corrupti deleniti velit iste odio', 'completed': True}, {'userId': 9, 'id': 172, 'title': 'et provident amet rerum consectetur et voluptatum', 'completed': False}, {'userId': 9, 'id': 173, 'title': 'harum ad aperiam quis', 'completed': False}, {'userId': 9, 'id': 174, 'title': 'similique aut quo', 'completed': False}, {'userId': 9, 'id': 175, 'title': 'laudantium eius officia perferendis provident perspiciatis asperiores', 'completed': True}, {'userId': 9, 'id': 176, 'title': 'magni soluta corrupti ut maiores rem quidem', 'completed': False}, {'userId': 9, 'id': 177, 'title': 'et placeat temporibus voluptas est tempora quos quibusdam', 'completed': False}, {'userId': 9, 'id': 178, 'title': 'nesciunt itaque commodi tempore', 'completed': True}, {'userId': 9, 'id': 179, 'title': 'omnis consequuntur cupiditate impedit itaque ipsam quo', 'completed': True}, {'userId': 9, 'id': 180, 'title': 'debitis nisi et dolorem repellat et', 'completed': True}, {'userId': 10, 'id': 181, 'title': 'ut cupiditate sequi aliquam fuga maiores', 'completed': False}, {'userId': 10, 'id': 182, 'title': 'inventore saepe cumque et aut illum enim', 'completed': True}, {'userId': 10, 'id': 183, 'title': 'omnis nulla eum aliquam distinctio', 'completed': True}, {'userId': 10, 'id': 184, 'title': 'molestias modi perferendis perspiciatis', 'completed': False}, {'userId': 10, 'id': 185, 'title': 'voluptates dignissimos sed doloribus animi quaerat aut', 'completed': False}, {'userId': 10, 'id': 186, 'title': 'explicabo odio est et', 'completed': False}, {'userId': 10, 'id': 187, 'title': 'consequuntur animi possimus', 'completed': False}, {'userId': 10, 'id': 188, 'title': 'vel non beatae est', 'completed': True}, {'userId': 10, 'id': 189, 'title': 'culpa eius et voluptatem et', 'completed': True}, {'userId': 10, 'id': 190, 'title': 'accusamus sint iusto et voluptatem exercitationem', 'completed': True}, {'userId': 10, 'id': 191, 'title': 'temporibus atque distinctio omnis eius impedit tempore molestias pariatur', 'completed': True}, {'userId': 10, 'id': 192, 'title': 'ut quas possimus exercitationem sint voluptates', 'completed': False}, {'userId': 10, 'id': 193, 'title': 'rerum debitis voluptatem qui eveniet tempora distinctio a', 'completed': True}, {'userId': 10, 'id': 194, 'title': 'sed ut vero sit molestiae', 'completed': False}, {'userId': 10, 'id': 195, 'title': 'rerum ex veniam mollitia voluptatibus pariatur', 'completed': True}, {'userId': 10, 'id': 196, 'title': 'consequuntur aut ut fugit similique', 'completed': True}, {'userId': 10, 'id': 197, 'title': 'dignissimos quo nobis earum saepe', 'completed': True}, {'userId': 10, 'id': 198, 'title': 'quis eius est sint explicabo', 'completed': True}, {'userId': 10, 'id': 199, 'title': 'numquam repellendus a magnam', 'completed': True}, {'userId': 10, 'id': 200, 'title': 'ipsam aperiam voluptates qui', 'completed': False}]\n"
     ]
    }
   ],
   "source": [
    "if re.status_code == 200: #정상\n",
    "    data_json = re.json() #json으로\n",
    "    print(data_json)\n",
    "else:\n",
    "    print(f'http 상태 : {re.status_code}')"
   ]
  },
  {
   "cell_type": "code",
   "execution_count": 23,
   "id": "90a04375-e79e-4acf-b9e8-9bc7a0a7bc14",
   "metadata": {},
   "outputs": [],
   "source": [
    "with open ('read_http.json','w') as f:\n",
    "    tmp = json.dumps(data_json)\n",
    "    f.write(tmp)"
   ]
  },
  {
   "cell_type": "code",
   "execution_count": 24,
   "id": "3bd49441-f61a-4031-9499-5c32156664a5",
   "metadata": {
    "scrolled": true
   },
   "outputs": [],
   "source": [
    "with open('read_http.json','r') as f:\n",
    "    data = json.load(f)"
   ]
  },
  {
   "cell_type": "code",
   "execution_count": 25,
   "id": "8c7b4dfb-306b-42a6-b0f3-3032baf708ef",
   "metadata": {
    "scrolled": true
   },
   "outputs": [
    {
     "data": {
      "text/plain": [
       "0                                     delectus aut autem\n",
       "1                     quis ut nam facilis et officia qui\n",
       "2                                    fugiat veniam minus\n",
       "3                                       et porro tempora\n",
       "4      laboriosam mollitia et enim quasi adipisci qui...\n",
       "                             ...                        \n",
       "195                  consequuntur aut ut fugit similique\n",
       "196                    dignissimos quo nobis earum saepe\n",
       "197                         quis eius est sint explicabo\n",
       "198                         numquam repellendus a magnam\n",
       "199                         ipsam aperiam voluptates qui\n",
       "Name: title, Length: 200, dtype: object"
      ]
     },
     "execution_count": 25,
     "metadata": {},
     "output_type": "execute_result"
    }
   ],
   "source": [
    "df = pd.DataFrame(data)\n",
    "df['title']"
   ]
  },
  {
   "cell_type": "markdown",
   "id": "6140b40e-3d99-4185-b6bc-8606e5e4d471",
   "metadata": {},
   "source": [
    "# 미니퀘스트"
   ]
  },
  {
   "cell_type": "code",
   "execution_count": 26,
   "id": "54a30d5e-92d3-4b2c-8a1e-c2ee2be46ce6",
   "metadata": {},
   "outputs": [
    {
     "name": "stdout",
     "output_type": "stream",
     "text": [
      "3\n"
     ]
    }
   ],
   "source": [
    "import numpy as np\n",
    "array = np.array([[[1, 2], [3, 4]], [[5, 6], [7, 8]]])\n",
    "print(array.ndim)"
   ]
  },
  {
   "cell_type": "code",
   "execution_count": 27,
   "id": "70d35cd4-f908-48ad-9124-ec32a827f102",
   "metadata": {},
   "outputs": [
    {
     "data": {
      "text/plain": [
       "array([[10, 20, 30],\n",
       "       [40, 50, 60]])"
      ]
     },
     "execution_count": 27,
     "metadata": {},
     "output_type": "execute_result"
    }
   ],
   "source": [
    "arr = np.array([10,20,30,40,50,60]).reshape(2,3)\n",
    "arr"
   ]
  },
  {
   "cell_type": "code",
   "execution_count": 28,
   "id": "b6e491d5-98fe-42d3-bf4a-2c4c880560fc",
   "metadata": {},
   "outputs": [
    {
     "data": {
      "text/plain": [
       "array([[ 7],\n",
       "       [14],\n",
       "       [21]])"
      ]
     },
     "execution_count": 28,
     "metadata": {},
     "output_type": "execute_result"
    }
   ],
   "source": [
    "import numpy as np\n",
    "array = np.array([7, 14, 21])\n",
    "array = array[:, np.newaxis]\n",
    "array"
   ]
  },
  {
   "cell_type": "code",
   "execution_count": 29,
   "id": "076d8055-e2a6-46c6-a36f-b69bc7cd4551",
   "metadata": {},
   "outputs": [
    {
     "name": "stdout",
     "output_type": "stream",
     "text": [
      "2\n"
     ]
    }
   ],
   "source": [
    "print(array.ndim)"
   ]
  },
  {
   "cell_type": "code",
   "execution_count": 30,
   "id": "23ac7b21-d5d5-4d83-9e38-50ce93bcd719",
   "metadata": {},
   "outputs": [
    {
     "data": {
      "text/plain": [
       "(2, 3)"
      ]
     },
     "execution_count": 30,
     "metadata": {},
     "output_type": "execute_result"
    }
   ],
   "source": [
    "import numpy as np\n",
    "array = np.array([[1, 2, 3], [4, 5, 6]])\n",
    "array.shape"
   ]
  },
  {
   "cell_type": "code",
   "execution_count": 31,
   "id": "5680d121-d216-45da-9824-3d810d2d3c96",
   "metadata": {},
   "outputs": [
    {
     "data": {
      "text/plain": [
       "array([[10, 20, 30],\n",
       "       [40, 50, 60]])"
      ]
     },
     "execution_count": 31,
     "metadata": {},
     "output_type": "execute_result"
    }
   ],
   "source": [
    "arr = np.array([10, 20, 30, 40, 50, 60]).reshape(2,3)\n",
    "arr"
   ]
  },
  {
   "cell_type": "code",
   "execution_count": 32,
   "id": "e8c43b5b-88ee-4a93-b4f6-6753478abca7",
   "metadata": {},
   "outputs": [
    {
     "data": {
      "text/plain": [
       "array([[10, 20],\n",
       "       [30, 40],\n",
       "       [50, 60]])"
      ]
     },
     "execution_count": 32,
     "metadata": {},
     "output_type": "execute_result"
    }
   ],
   "source": [
    "arr.reshape(3,2)"
   ]
  },
  {
   "cell_type": "code",
   "execution_count": 33,
   "id": "497a97f7-dc78-4bdd-bbb9-983510485021",
   "metadata": {},
   "outputs": [
    {
     "data": {
      "text/plain": [
       "(3, 2, 2)"
      ]
     },
     "execution_count": 33,
     "metadata": {},
     "output_type": "execute_result"
    }
   ],
   "source": [
    "import numpy as np\n",
    "array = np.array([\n",
    "    [[1, 2], [3, 4]],\n",
    "    [[5, 6], [7, 8]],\n",
    "    [[9, 10], [11, 12]]\n",
    "])\n",
    "array.shape"
   ]
  },
  {
   "cell_type": "code",
   "execution_count": 34,
   "id": "9071a456-f2de-4741-a1de-1744f459cc02",
   "metadata": {},
   "outputs": [
    {
     "data": {
      "text/plain": [
       "array([[[ 1,  2],\n",
       "        [ 3,  4]],\n",
       "\n",
       "       [[ 5,  6],\n",
       "        [ 7,  8]],\n",
       "\n",
       "       [[ 9, 10],\n",
       "        [11, 12]]])"
      ]
     },
     "execution_count": 34,
     "metadata": {},
     "output_type": "execute_result"
    }
   ],
   "source": [
    "array.reshape(3,4)\n",
    "array"
   ]
  },
  {
   "cell_type": "code",
   "execution_count": 35,
   "id": "b708deb3-f62f-4dab-9919-6ecb084a579c",
   "metadata": {},
   "outputs": [
    {
     "name": "stdout",
     "output_type": "stream",
     "text": [
      "hi\n"
     ]
    }
   ],
   "source": [
    "res = [0]\n",
    "if res:\n",
    "    print('hi')"
   ]
  },
  {
   "cell_type": "code",
   "execution_count": null,
   "id": "0dc68a4e-9ceb-4536-b678-3b566ad3add9",
   "metadata": {},
   "outputs": [],
   "source": []
  },
  {
   "cell_type": "code",
   "execution_count": null,
   "id": "0788226a-7e9c-4121-ba79-a0d1398a7bf0",
   "metadata": {},
   "outputs": [],
   "source": []
  }
 ],
 "metadata": {
  "kernelspec": {
   "display_name": "env_ktbai",
   "language": "python",
   "name": "env_ktbai"
  },
  "language_info": {
   "codemirror_mode": {
    "name": "ipython",
    "version": 3
   },
   "file_extension": ".py",
   "mimetype": "text/x-python",
   "name": "python",
   "nbconvert_exporter": "python",
   "pygments_lexer": "ipython3",
   "version": "3.13.7"
  }
 },
 "nbformat": 4,
 "nbformat_minor": 5
}

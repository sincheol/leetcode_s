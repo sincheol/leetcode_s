{
 "cells": [
  {
   "cell_type": "code",
   "execution_count": 3,
   "id": "a2fdcf9c-f843-4b3a-8754-67d56844caf5",
   "metadata": {},
   "outputs": [
    {
     "name": "stdin",
     "output_type": "stream",
     "text": [
      "메뉴를 선택해주세요 : 1.작성 2.조회 3.수정 4.삭제 5.추가기능 6.종료 2\n"
     ]
    },
    {
     "name": "stdout",
     "output_type": "stream",
     "text": [
      "조회\n",
      "1 : ㅅㄷㄴㅅ \n",
      "2 : test2 \n",
      "3 : test3 \n",
      "4 : test5 \n",
      "5 : test \n"
     ]
    },
    {
     "name": "stdin",
     "output_type": "stream",
     "text": [
      "조회하고 싶은 메모(번호): t\n"
     ]
    },
    {
     "name": "stdout",
     "output_type": "stream",
     "text": [
      "invalid literal for int() with base 10: 't'\n"
     ]
    },
    {
     "name": "stdin",
     "output_type": "stream",
     "text": [
      "메뉴를 선택해주세요 : 1.작성 2.조회 3.수정 4.삭제 5.추가기능 6.종료 6\n"
     ]
    },
    {
     "name": "stdout",
     "output_type": "stream",
     "text": [
      "종료\n"
     ]
    }
   ],
   "source": [
    "'''\n",
    "\n",
    "TODO : 첫 작성 때 메모장이 비었다는 print문이 나옴 손봐야함...\n",
    "삭제시에 비밀번호를 두번 입력해야함... 기능을 추가하면서 작성하다보니 함수들 기능이 너무 재활용하기 힘들어졌음..\n",
    "iterator, generator는 메모리에 한번에 올리지않고 필요한 만큼씩 꺼내서 쓸 수 있다. 즉 메모리를 효율적으로 사용가능\n",
    "여기서는 메모장의 용량이 너무 커져 json을 읽어와 list에 저장할 때 문제가 될 수 있는 것에 적용가능\n",
    "\n",
    "1-5. 비동기 처리 – asyncio를 사용해 병렬 처리 적용\n",
    "\n",
    "-----------------------------------------------------------------------\n",
    "해결\n",
    "decrypt되고 나서 문자열이 제대로 출력되기는 하는데 \\n이 작동을 안해서 줄바꿈이 적용 안됨 -> split의 return은 list type(join으로 해결)\n",
    "비밀번호는 16 24 32 byte만 지원... 해당되는 숫자가 아니면 err로 해결\n",
    "========================================================================\n",
    "예상가능한 err\n",
    "각 기능별로 접근\n",
    "*작성\n",
    "    ***title과 content에 공백을 작성하면 나지 않을까*** 확인필요\n",
    "*조회 수정 삭제\n",
    "    메모장이 생성되지 않았는데 조회하려 함\n",
    "    idx에 해당되지 않는 숫자 작성 -> 숫자가 아닐수도 있겠다\n",
    "*******사용자가 메모장이름을 \"(잠금) \"으로 시작하는 형태로 작성하면 메모장은 영원히 잠김...ㅋㅋㅋㅋㅋㅋ -> json파일을 하나 더 생성해서 잠김파일을 관리하면 해결됨*******\n",
    "'''\n",
    "import utils\n",
    "c = '작성'\n",
    "r = '조회'\n",
    "u = '수정'\n",
    "d = '삭제'\n",
    "a = '추가기능'\n",
    "e = '종료'\n",
    "while(True):\n",
    "    try:\n",
    "        i = int(input(f'메뉴를 선택해주세요 : 1.{c} 2.{r} 3.{u} 4.{d} 5.{a} 6.{e}'))\n",
    "    except Exception as error:\n",
    "        print(error)\n",
    "        break\n",
    "    if i == 1:\n",
    "        utils.create_f()\n",
    "    elif i == 2:\n",
    "        print(r)\n",
    "        try:\n",
    "            n, memo, title,content = utils.read_f(r)\n",
    "        except Exception as error:\n",
    "            print(error)\n",
    "            continue\n",
    "        if n==0:\n",
    "            continue\n",
    "        print(f'Title : {title}\\n{content}')#내용 출력\n",
    "    elif i == 3:\n",
    "        print(u)\n",
    "        try:\n",
    "            n, memo, title, content = utils.read_f(u)\n",
    "        except Exception as error:\n",
    "            print(error)\n",
    "            continue\n",
    "        if n==0:\n",
    "            continue\n",
    "        content = utils.write_c() #새로 입력받기\n",
    "        if memo[n-1]['title'].split(' ')[0] == '(잠금)': #수정하려는 파일이 잠금상태였을 때\n",
    "            title, content = utils.ec_f(\"\".join(memo[n-1]['title'].split(' ')[1:]), content)\n",
    "        else: #수정하려는 파일이 잠금 상태가 아닐때\n",
    "            title, content = utils.ec_f(title, content) #잠금 설정할건지 안할건지\n",
    "        memo[n-1]['title'] = title\n",
    "        memo[n-1]['content'] = content #덮어쓰기\n",
    "        utils.write_json(memo)\n",
    "    elif i == 4: #삭제\n",
    "        print(d)\n",
    "        try:\n",
    "            n, memo, title, content = utils.read_f(d)\n",
    "        except Exception as error:\n",
    "            print(error)\n",
    "            continue\n",
    "        if(n==0):\n",
    "            continue\n",
    "        if memo[n-1]['title'].split(' ')[0]=='(잠금)':\n",
    "            val = utils.pwd_val(memo,n)\n",
    "            if val == 0:\n",
    "                continue\n",
    "        del memo[n-1]\n",
    "        utils.write_json(memo)\n",
    "        print('삭제 완료')\n",
    "    elif i == 5: #없음...\n",
    "        print(a)\n",
    "    elif i == 6: #종료\n",
    "        print(e)\n",
    "        break"
   ]
  },
  {
   "cell_type": "code",
   "execution_count": 8,
   "id": "1e714d25-f24c-4483-b0f2-20e0521afd18",
   "metadata": {},
   "outputs": [
    {
     "name": "stdout",
     "output_type": "stream",
     "text": [
      "ㅅㄷㄴㅅ\n",
      "test2\n",
      "test3\n",
      "test5\n"
     ]
    }
   ],
   "source": [
    "# 먼저 라이브러리를 설치해야 합니다: pip install ijson\n",
    "import ijson\n",
    "\n",
    "def read_large_json_array(file_path):\n",
    "    \"\"\"\n",
    "    ijson을 사용하여 큰 JSON 배열을 스트리밍 방식으로 처리합니다.\n",
    "    \"\"\"\n",
    "    with open(file_path, 'rb') as f:  # ijson은 바이너리 모드로 파일을 엽니다.\n",
    "        # 'item'은 배열의 각 요소를 의미\n",
    "        parser = ijson.items(f, 'item') #'item은 각 요소를 나타내는 keyword'\n",
    "        for item in parser:\n",
    "            yield item\n",
    "\n",
    "# 제너레이터를 사용하여 한 번에 한 객체씩 처리\n",
    "for record in read_large_json_array('data.json'):\n",
    "    print(record['title'])\n",
    "    # 각 레코드 처리 로직"
   ]
  },
  {
   "cell_type": "code",
   "execution_count": 9,
   "id": "f87822a3-68ba-4f98-8e35-beec2ac7a130",
   "metadata": {},
   "outputs": [
    {
     "ename": "SyntaxError",
     "evalue": "'return' outside function (467879276.py, line 1)",
     "output_type": "error",
     "traceback": [
      "  \u001b[36mCell\u001b[39m\u001b[36m \u001b[39m\u001b[32mIn[9]\u001b[39m\u001b[32m, line 1\u001b[39m\n\u001b[31m    \u001b[39m\u001b[31mreturn 1\u001b[39m\n    ^\n\u001b[31mSyntaxError\u001b[39m\u001b[31m:\u001b[39m 'return' outside function\n"
     ]
    }
   ],
   "source": [
    "return 1"
   ]
  },
  {
   "cell_type": "code",
   "execution_count": 11,
   "id": "35214dc0-792f-4c80-8e7b-cf1b0463ae4a",
   "metadata": {},
   "outputs": [
    {
     "name": "stdout",
     "output_type": "stream",
     "text": [
      "0\n"
     ]
    },
    {
     "data": {
      "text/plain": [
       "0"
      ]
     },
     "execution_count": 11,
     "metadata": {},
     "output_type": "execute_result"
    }
   ],
   "source": [
    "def test():\n",
    "    for i in range(3):\n",
    "        print(i)\n",
    "        return i\n",
    "\n",
    "test()"
   ]
  },
  {
   "cell_type": "code",
   "execution_count": null,
   "id": "a6ed4b38-4c52-44cc-92e8-f07a1062fa15",
   "metadata": {},
   "outputs": [],
   "source": []
  }
 ],
 "metadata": {
  "kernelspec": {
   "display_name": "env_ktbai",
   "language": "python",
   "name": "env_ktbai"
  },
  "language_info": {
   "codemirror_mode": {
    "name": "ipython",
    "version": 3
   },
   "file_extension": ".py",
   "mimetype": "text/x-python",
   "name": "python",
   "nbconvert_exporter": "python",
   "pygments_lexer": "ipython3",
   "version": "3.13.7"
  }
 },
 "nbformat": 4,
 "nbformat_minor": 5
}

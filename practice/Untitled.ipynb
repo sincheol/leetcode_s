{
 "cells": [
  {
   "cell_type": "markdown",
   "id": "71c90379-b7d4-49ad-9970-b4f33796436c",
   "metadata": {
    "jp-MarkdownHeadingCollapsed": true
   },
   "source": [
    "# Class"
   ]
  },
  {
   "cell_type": "code",
   "execution_count": 4,
   "id": "76b8f4e8-d68e-4f45-bedf-d25dc0b14af4",
   "metadata": {},
   "outputs": [
    {
     "name": "stdout",
     "output_type": "stream",
     "text": [
      "클래스 메서드 실행\n",
      " -> 내 클래스 메서드\n",
      " -> 정적 메서드\n"
     ]
    }
   ],
   "source": [
    "class MyClass:\n",
    "    @classmethod\n",
    "    def class_method(cls):\n",
    "         print(\"클래스 메서드 실행\")\n",
    "         # cls.instance_method() # 에러! self가 없어서 호출 불가\n",
    "         cls.a_class_method() # 내 클래스 메서드 호출\n",
    "         cls.static_method()        # 정적 메서드 호출\n",
    "    \n",
    "    def instance_method(self):\n",
    "        print(\"인스턴스 메서드\")\n",
    "    \n",
    "    @classmethod\n",
    "    def a_class_method(cls):\n",
    "        print(\" -> 내 클래스 메서드\")\n",
    "    \n",
    "    @staticmethod\n",
    "    def static_method():\n",
    "        print(\" -> 정적 메서드\")\n",
    "        \n",
    "        \n",
    "MyClass.class_method()\n"
   ]
  },
  {
   "cell_type": "markdown",
   "id": "8a832da8-7780-4058-8222-9204b419418c",
   "metadata": {
    "jp-MarkdownHeadingCollapsed": true
   },
   "source": [
    "# async"
   ]
  },
  {
   "cell_type": "code",
   "execution_count": 3,
   "id": "3e49b344-7e11-4f3a-9909-fc5329c3b033",
   "metadata": {},
   "outputs": [
    {
     "name": "stdout",
     "output_type": "stream",
     "text": [
      "1\n",
      "2\n",
      "3\n"
     ]
    }
   ],
   "source": [
    "import asyncio\n",
    "\n",
    "async def fetch(n): #1초 기다림\n",
    "    await asyncio.sleep(1)\n",
    "    return n\n",
    "\n",
    "async def main():\n",
    "    results = await asyncio.gather(\n",
    "        fetch(1), fetch(2), fetch(3)\n",
    "    )\n",
    "    print(results)\n",
    "\n",
    "await main()"
   ]
  },
  {
   "cell_type": "code",
   "execution_count": 5,
   "id": "d32b8fbb-23e4-4b26-b352-4f398457de9b",
   "metadata": {},
   "outputs": [
    {
     "name": "stdout",
     "output_type": "stream",
     "text": [
      "1 시작\n",
      "1 완료\n",
      "2 시작\n",
      "2 완료\n",
      "2 4\n"
     ]
    }
   ],
   "source": [
    "import asyncio\n",
    "\n",
    "async def fetch_data(n):\n",
    "    print(f\"{n} 시작\")\n",
    "    await asyncio.sleep(1)  \n",
    "    print(f\"{n} 완료\")\n",
    "    return n * 2\n",
    "\n",
    "async def main():\n",
    "    result1 = await fetch_data(1)\n",
    "    result2 = await fetch_data(2)\n",
    "    print(result1, result2)\n",
    "\n",
    "# Colab/Jupyter에서는 asyncio.run() 대신 await 사용\n",
    "await main()"
   ]
  },
  {
   "cell_type": "code",
   "execution_count": 6,
   "id": "152d8a58-b6f2-4a61-9359-5ba8df4d51ef",
   "metadata": {},
   "outputs": [],
   "source": [
    "m = {}\n",
    "m[1] = 2"
   ]
  },
  {
   "cell_type": "code",
   "execution_count": 10,
   "id": "36e02073-0a67-4c1f-8cc8-8244bf5f5ccd",
   "metadata": {},
   "outputs": [
    {
     "data": {
      "text/plain": [
       "dict"
      ]
     },
     "execution_count": 10,
     "metadata": {},
     "output_type": "execute_result"
    }
   ],
   "source": [
    "type(m)"
   ]
  },
  {
   "cell_type": "code",
   "execution_count": 7,
   "id": "699b50bf-f8a4-4c3c-9d8f-9b0cf95b7951",
   "metadata": {},
   "outputs": [],
   "source": [
    "\n",
    "\n",
    "def fib_a(n,memo):\n",
    "    if n in memo:\n",
    "        return memo[n]\n",
    "    if n <= 1:\n",
    "        return n\n",
    "    memo[n] = fib_a(n-1,memo) + fib_a(n-2,memo)\n",
    "    return memo[n]\n",
    "\n"
   ]
  },
  {
   "cell_type": "code",
   "execution_count": 8,
   "id": "600ca4eb-36e7-4ec5-b199-39a3a68fe453",
   "metadata": {},
   "outputs": [],
   "source": [
    "\n",
    "def fib_b(n,dp):\n",
    "    if n <= 1:\n",
    "        return n\n",
    "    \n",
    "    for i in range(2, n+1):\n",
    "        dp.append(dp[i-1] + dp[i-2])\n",
    "    return dp[n]\n",
    "\n"
   ]
  },
  {
   "cell_type": "code",
   "execution_count": 9,
   "id": "8e2d45f7-95db-4a46-8545-ae1e851e37b7",
   "metadata": {},
   "outputs": [
    {
     "name": "stdout",
     "output_type": "stream",
     "text": [
      "13.6 μs ± 30.2 ns per loop (mean ± std. dev. of 7 runs, 100,000 loops each)\n"
     ]
    }
   ],
   "source": [
    "%%timeit\n",
    "memo = {}\n",
    "fib_a(100,memo)"
   ]
  },
  {
   "cell_type": "code",
   "execution_count": 10,
   "id": "46608162-eb26-4691-a031-55fab4d69169",
   "metadata": {},
   "outputs": [
    {
     "name": "stdout",
     "output_type": "stream",
     "text": [
      "5.21 μs ± 41.2 ns per loop (mean ± std. dev. of 7 runs, 100,000 loops each)\n"
     ]
    }
   ],
   "source": [
    "%%timeit\n",
    "dp = [0, 1]\n",
    "fib_b(100,dp)"
   ]
  },
  {
   "cell_type": "markdown",
   "id": "6c901a55-186c-46b2-9100-2c4d1d0ce64e",
   "metadata": {
    "jp-MarkdownHeadingCollapsed": true
   },
   "source": [
    "# Local vs Global"
   ]
  },
  {
   "cell_type": "code",
   "execution_count": 1,
   "id": "4e0b4019-c004-4b5c-b5ae-588900db2bfd",
   "metadata": {},
   "outputs": [
    {
     "name": "stdout",
     "output_type": "stream",
     "text": [
      "5.2 μs ± 41 ns per loop (mean ± std. dev. of 7 runs, 100,000 loops each)\n"
     ]
    }
   ],
   "source": [
    "%%timeit\n",
    "memo = [0,1]\n",
    "\n",
    "def fib_b(n,dp):\n",
    "    if n <= 1:\n",
    "        return n\n",
    "    \n",
    "    for i in range(2, n+1):\n",
    "        dp.append(dp[i-1] + dp[i-2])\n",
    "    return dp[n]\n",
    "\n",
    "\n",
    "\n",
    "fib_b(100, memo)"
   ]
  },
  {
   "cell_type": "code",
   "execution_count": 2,
   "id": "dd320481-fbc8-43b7-9e37-677678315c4e",
   "metadata": {},
   "outputs": [
    {
     "name": "stdout",
     "output_type": "stream",
     "text": [
      "5.23 μs ± 18.5 ns per loop (mean ± std. dev. of 7 runs, 100,000 loops each)\n"
     ]
    }
   ],
   "source": [
    "%%timeit\n",
    "def fib_b(n):\n",
    "    if n <= 1:\n",
    "        return n\n",
    "    dp = [0,1]\n",
    "    for i in range(2, n+1):\n",
    "        dp.append(dp[i-1] + dp[i-2])\n",
    "    return dp[n]\n",
    "\n",
    "fib_b(100)"
   ]
  },
  {
   "cell_type": "markdown",
   "id": "a226bf4c-084e-4fed-8f40-ea613ebd9d55",
   "metadata": {
    "jp-MarkdownHeadingCollapsed": true
   },
   "source": [
    "# List vs Dict (writing, reading)"
   ]
  },
  {
   "cell_type": "code",
   "execution_count": 11,
   "id": "e3bc661f-6aea-450f-b0d9-003127c7b4e1",
   "metadata": {},
   "outputs": [],
   "source": [
    "l = [0,1]"
   ]
  },
  {
   "cell_type": "code",
   "execution_count": 12,
   "id": "0356f23d-0ecc-4536-915b-4b8fe6f8c3c4",
   "metadata": {},
   "outputs": [],
   "source": [
    "for i in range(2,100000):\n",
    "    l.append(i)"
   ]
  },
  {
   "cell_type": "code",
   "execution_count": 13,
   "id": "603e1c7b-773e-490e-8ebe-d8aa1793edef",
   "metadata": {},
   "outputs": [],
   "source": [
    "d = {0:0,1:1}"
   ]
  },
  {
   "cell_type": "code",
   "execution_count": 14,
   "id": "49a256b7-15a0-4459-adb4-af93be2007d5",
   "metadata": {},
   "outputs": [],
   "source": [
    "for i in range(2,100000):\n",
    "    d[i] = i"
   ]
  },
  {
   "cell_type": "code",
   "execution_count": 15,
   "id": "a998345d-acf0-42ed-98c3-1c2f7a7366e4",
   "metadata": {},
   "outputs": [
    {
     "name": "stdout",
     "output_type": "stream",
     "text": [
      "16.3 ns ± 0.0661 ns per loop (mean ± std. dev. of 7 runs, 100,000,000 loops each)\n"
     ]
    }
   ],
   "source": [
    "%%timeit\n",
    "l[99999]"
   ]
  },
  {
   "cell_type": "code",
   "execution_count": 16,
   "id": "10324504-bab2-4343-bbcb-07479eaead60",
   "metadata": {},
   "outputs": [
    {
     "name": "stdout",
     "output_type": "stream",
     "text": [
      "27 ns ± 0.0878 ns per loop (mean ± std. dev. of 7 runs, 10,000,000 loops each)\n"
     ]
    }
   ],
   "source": [
    "%%timeit\n",
    "d[99999]"
   ]
  },
  {
   "cell_type": "code",
   "execution_count": 3,
   "id": "2d8e4d58-acc3-48c8-becb-4ef191112a71",
   "metadata": {},
   "outputs": [
    {
     "name": "stdout",
     "output_type": "stream",
     "text": [
      "2.29 ms ± 70.8 μs per loop (mean ± std. dev. of 7 runs, 100 loops each)\n"
     ]
    }
   ],
   "source": [
    "%%timeit\n",
    "l = list()\n",
    "for i in range(1,100000):\n",
    "    l.append(i)"
   ]
  }
 ],
 "metadata": {
  "kernelspec": {
   "display_name": "env_ktbai",
   "language": "python",
   "name": "env_ktbai"
  },
  "language_info": {
   "codemirror_mode": {
    "name": "ipython",
    "version": 3
   },
   "file_extension": ".py",
   "mimetype": "text/x-python",
   "name": "python",
   "nbconvert_exporter": "python",
   "pygments_lexer": "ipython3",
   "version": "3.13.7"
  }
 },
 "nbformat": 4,
 "nbformat_minor": 5
}

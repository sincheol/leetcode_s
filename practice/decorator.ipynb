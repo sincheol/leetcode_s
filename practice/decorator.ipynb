{
 "cells": [
  {
   "cell_type": "markdown",
   "id": "8fa2e53f-794b-4da4-9641-aec87cd5c71c",
   "metadata": {},
   "source": [
    "# decorator"
   ]
  },
  {
   "cell_type": "code",
   "execution_count": 5,
   "id": "fec17258-6490-4245-8d11-6fd065b6aeb0",
   "metadata": {},
   "outputs": [
    {
     "name": "stdout",
     "output_type": "stream",
     "text": [
      "실행 중: add\n",
      " a +8\n"
     ]
    }
   ],
   "source": [
    "def log_decorator(function):\n",
    "    def wrapper(*args, **kwargs):\n",
    "        print(f\"실행 중: {function.__name__}\")\n",
    "        return function(*args, **kwargs)\n",
    "    return wrapper\n",
    "\n",
    "@log_decorator\n",
    "def add(a, b):\n",
    "    return a + b\n",
    "\n",
    "print(f\" a +{add(3, 5)}\")  # 실행 중: add → 8"
   ]
  },
  {
   "cell_type": "code",
   "execution_count": 6,
   "id": "2a6684bd-adf3-42fc-9ba6-9b3d424fbb01",
   "metadata": {},
   "outputs": [
    {
     "name": "stdout",
     "output_type": "stream",
     "text": [
      "<b><i>Hello</i></b>\n"
     ]
    }
   ],
   "source": [
    "def bold(function):\n",
    "    def wrapper():\n",
    "        return \"<b>\" + function() + \"</b>\"\n",
    "    return wrapper\n",
    "\n",
    "def italic(function):\n",
    "    def wrapper():\n",
    "        return \"<i>\" + function() + \"</i>\"\n",
    "    return wrapper\n",
    "\n",
    "@bold\n",
    "@italic\n",
    "def greet():\n",
    "    return \"Hello\"\n",
    "\n",
    "print(greet())  # 아래에서 위로 실행됨"
   ]
  },
  {
   "cell_type": "markdown",
   "id": "2ef62add-e433-4f19-89ac-f817a803b115",
   "metadata": {},
   "source": [
    "# generic"
   ]
  },
  {
   "cell_type": "code",
   "execution_count": 7,
   "id": "f91de3b1-8d2e-42a6-9269-353995346edd",
   "metadata": {},
   "outputs": [
    {
     "name": "stdout",
     "output_type": "stream",
     "text": [
      "Sedan\n",
      "{'model': 'EV6', 'battery': '77kWh'}\n"
     ]
    }
   ],
   "source": [
    "'''\n",
    "generic, typevar -> 어떤 data type이든 가능\n",
    "'''\n",
    "from typing import Generic, TypeVar\n",
    "\n",
    "\n",
    "T = TypeVar('T')\n",
    "\n",
    "class Garage(Generic[T]):\n",
    "    def __init__(self, car: T):\n",
    "        self.car = car\n",
    "    \n",
    "    def get_car(self) -> T:\n",
    "        return self.car\n",
    "\n",
    "sedan_garage = Garage(\"Sedan\")\n",
    "electric_garage = Garage({\"model\": \"EV6\", \"battery\": \"77kWh\"})\n",
    "\n",
    "print(sedan_garage.get_car())   \n",
    "print(electric_garage.get_car()) \n"
   ]
  },
  {
   "cell_type": "code",
   "execution_count": 9,
   "id": "93aa6eb8-3a0e-46f0-942f-ae8953eb65fb",
   "metadata": {},
   "outputs": [
    {
     "name": "stdout",
     "output_type": "stream",
     "text": [
      "1\n",
      "a\n"
     ]
    }
   ],
   "source": [
    "'''\n",
    "list, dict에서 안에 들어가는 data type을 모를 때\n",
    "'''\n",
    "from typing import TypeVar, List\n",
    "\n",
    "T = TypeVar('T')  # 임의의 타입 변수 정의\n",
    "\n",
    "def first_element(items: List[T]) -> T:\n",
    "    return items[0]\n",
    "\n",
    "print(first_element([1, 2, 3]))      # 1 (int)\n",
    "print(first_element([\"a\", \"b\", \"c\"])) # \"a\" (str)"
   ]
  },
  {
   "cell_type": "code",
   "execution_count": 11,
   "id": "d8031b9b-2170-4022-b336-6bca2fa9d6a8",
   "metadata": {},
   "outputs": [],
   "source": [
    "import numpy as np\n",
    "import pandas as pd\n",
    "\n",
    "from typing import Union\n",
    "\n",
    "ArrayLike = TypeVar('ArrLike', np.ndarray, pd.DataFrame)"
   ]
  },
  {
   "cell_type": "code",
   "execution_count": 12,
   "id": "e47098d8-f1dc-4d07-9db6-3d1e62250ce0",
   "metadata": {},
   "outputs": [],
   "source": [
    "def minmax(x:ArrayLike)->ArrayLike:\n",
    "    return (x-x.min())/(x.max()-x.min())"
   ]
  },
  {
   "cell_type": "code",
   "execution_count": 14,
   "id": "cbd6b3a4-515a-42ca-979b-8525c933e58e",
   "metadata": {},
   "outputs": [
    {
     "name": "stdout",
     "output_type": "stream",
     "text": [
      "[0.         0.27027027 0.54054054 0.7027027  1.        ] <class 'numpy.ndarray'>\n"
     ]
    }
   ],
   "source": [
    "arr = np.array([1.0,2.0,3.0,3.6,4.7])\n",
    "print(minmax(arr), type(arr))"
   ]
  },
  {
   "cell_type": "code",
   "execution_count": 16,
   "id": "4e1d3a29-b2dc-4f7d-8084-64136a44a7d4",
   "metadata": {},
   "outputs": [
    {
     "name": "stdout",
     "output_type": "stream",
     "text": [
      "          0\n",
      "0  0.000000\n",
      "1  0.270270\n",
      "2  0.540541\n",
      "3  0.702703\n",
      "4  1.000000 <class 'pandas.core.frame.DataFrame'>\n"
     ]
    }
   ],
   "source": [
    "df = pd.DataFrame([1.0,2.0,3.0,3.6,4.7])\n",
    "print(minmax(df), type(df))"
   ]
  },
  {
   "cell_type": "code",
   "execution_count": 17,
   "id": "d10bfad0-a41c-4ed9-a508-38835084f2a8",
   "metadata": {},
   "outputs": [
    {
     "data": {
      "text/plain": [
       "array([0.        , 0.27027027, 0.54054054, 0.7027027 , 1.        ])"
      ]
     },
     "execution_count": 17,
     "metadata": {},
     "output_type": "execute_result"
    }
   ],
   "source": [
    "minmax(arr)"
   ]
  },
  {
   "cell_type": "markdown",
   "id": "56f27238-07bf-40af-ad01-563e1c4ae183",
   "metadata": {},
   "source": [
    "# protocol"
   ]
  },
  {
   "cell_type": "markdown",
   "id": "210a5c5c-6ba6-46ae-8195-a4bfeff93547",
   "metadata": {},
   "source": [
    "python에서 protocol은 클래스가 protocol에서 정의한 메서드나 속성을 구현하고 있으면, 상속여부와 상관없이 그 클래스를 해당 인터페이스를 만족하는 것으로 간주하는 방식 // structural subtyping에 기반\n",
    "* structural subtyping - 상속여부와 상관없이 구조(메서드나 속성) 구현하고 있으면 같은 타입으로 인정하는 방식\n",
    "* duct typing - 실제 타입보다 행동 가능 여부를 기준으로 판단하는 방식"
   ]
  },
  {
   "cell_type": "code",
   "execution_count": 18,
   "id": "c09631d5-63a2-4945-a60e-946d3747aa7a",
   "metadata": {},
   "outputs": [
    {
     "name": "stdout",
     "output_type": "stream",
     "text": [
      "Hello, Python!\n"
     ]
    }
   ],
   "source": [
    "from typing import Protocol\n",
    "\n",
    "class Greeter(Protocol):\n",
    "    def greet(self, name: str) -> str:\n",
    "        ...\n",
    "\n",
    "class Person:\n",
    "    def greet(self, name: str) -> str:\n",
    "        return f\"Hello, {name}!\"\n",
    "\n",
    "def welcome(g: Greeter):\n",
    "    print(g.greet(\"Python\"))\n",
    "\n",
    "p = Person()\n",
    "welcome(p)  # Hello, Python!"
   ]
  },
  {
   "cell_type": "code",
   "execution_count": 21,
   "id": "7eb5cae8-b793-4325-92fd-a9f930c5f309",
   "metadata": {},
   "outputs": [
    {
     "name": "stdout",
     "output_type": "stream",
     "text": [
      "Buddy\n"
     ]
    }
   ],
   "source": [
    "from typing import Protocol\n",
    "\n",
    "class HasName(Protocol):\n",
    "    name: str\n",
    "\n",
    "class Dog:\n",
    "    def __init__(self, name: str):\n",
    "        self.name = name\n",
    "\n",
    "def print_name(n: HasName):\n",
    "    print(n.name)\n",
    "\n",
    "d = Dog(\"Buddy\")\n",
    "print_name(d)  # Buddy"
   ]
  },
  {
   "cell_type": "markdown",
   "id": "1da41527-0774-4965-9eba-13829c3b6e86",
   "metadata": {},
   "source": [
    "# iterator"
   ]
  },
  {
   "cell_type": "code",
   "execution_count": 23,
   "id": "6ca217f8-afaf-4fe1-b26e-46e1315020b1",
   "metadata": {},
   "outputs": [
    {
     "name": "stdout",
     "output_type": "stream",
     "text": [
      "5\n",
      "4\n",
      "3\n"
     ]
    }
   ],
   "source": [
    "'''\n",
    "user-defined\n",
    "'''\n",
    "class CountDown:\n",
    "    def __init__(self, start):\n",
    "        self.current = start  # 시작값 초기화\n",
    "    \n",
    "    def __iter__(self):\n",
    "        return self\n",
    "    \n",
    "    def __next__(self):\n",
    "        if self.current <= 0:\n",
    "            raise StopIteration\n",
    "        self.current -= 1\n",
    "        return self.current + 1\n",
    "\n",
    "countdown = CountDown(5)          # 5부터 시작\n",
    "iterator = iter(countdown)\n",
    "print(next(iterator))      # 5\n",
    "print(next(iterator))      # 4\n",
    "print(next(iterator))      # 3"
   ]
  },
  {
   "cell_type": "markdown",
   "id": "8c3a3621-cd89-41a1-a849-042dc08c9557",
   "metadata": {},
   "source": [
    "# generator"
   ]
  },
  {
   "cell_type": "code",
   "execution_count": null,
   "id": "7f9fd309-a0a0-4b93-8ba3-a2d4122e40da",
   "metadata": {},
   "outputs": [],
   "source": []
  }
 ],
 "metadata": {
  "kernelspec": {
   "display_name": "env_ktbai",
   "language": "python",
   "name": "env_ktbai"
  },
  "language_info": {
   "codemirror_mode": {
    "name": "ipython",
    "version": 3
   },
   "file_extension": ".py",
   "mimetype": "text/x-python",
   "name": "python",
   "nbconvert_exporter": "python",
   "pygments_lexer": "ipython3",
   "version": "3.13.7"
  }
 },
 "nbformat": 4,
 "nbformat_minor": 5
}

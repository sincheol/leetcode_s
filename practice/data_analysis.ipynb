{
 "cells": [
  {
   "cell_type": "markdown",
   "id": "0a803856-f494-4488-a2c7-b66553af90f2",
   "metadata": {
    "jp-MarkdownHeadingCollapsed": true
   },
   "source": [
    "# shape"
   ]
  },
  {
   "cell_type": "code",
   "execution_count": 2,
   "id": "71dee9e1-69fd-4181-97bb-b74eee30e841",
   "metadata": {},
   "outputs": [
    {
     "name": "stdout",
     "output_type": "stream",
     "text": [
      "3\n",
      "()\n"
     ]
    }
   ],
   "source": [
    "import numpy as np\n",
    "scalar = np.array(3)\n",
    "print(scalar)\n",
    "print(scalar.shape)"
   ]
  },
  {
   "cell_type": "code",
   "execution_count": 2,
   "id": "6e9df998-f2f8-44b2-9b7c-8d90d4388ab6",
   "metadata": {},
   "outputs": [
    {
     "name": "stdout",
     "output_type": "stream",
     "text": [
      "(3,)\n"
     ]
    }
   ],
   "source": [
    "vector = np.array([1,2,3])\n",
    "print(vector.shape)"
   ]
  },
  {
   "cell_type": "markdown",
   "id": "fec5f306-0d83-43d1-8787-a7c927286256",
   "metadata": {
    "jp-MarkdownHeadingCollapsed": true
   },
   "source": [
    "# new axis"
   ]
  },
  {
   "cell_type": "code",
   "execution_count": 11,
   "id": "43216317-3550-4f92-a985-0d80dc77c08c",
   "metadata": {},
   "outputs": [
    {
     "name": "stdout",
     "output_type": "stream",
     "text": [
      "vector: [1 2 3]\n",
      "vector.ndim: 1\n",
      "column_vector:\n",
      " [[1]\n",
      " [2]\n",
      " [3]]\n",
      "column_vector.ndim: 2\n",
      "first_element_column:\n",
      " [1]\n",
      "first_element_column.ndim: 1\n",
      "range_column_vector:\n",
      " [[2]\n",
      " [3]]\n",
      "range_column_vector.ndim: 2\n"
     ]
    }
   ],
   "source": [
    "\n",
    "vector = np.array([1, 2, 3])  # 원본 벡터\n",
    "column_vector = vector[:, np.newaxis]  # 전체 원소를 세로 방향으로 확장\n",
    "first_element_column = vector[0, np.newaxis]  # 첫 번째 원소만 세로 방향으로 확장\n",
    "range_column_vector = vector[1:3, np.newaxis]  # 일부 범위를 세로 방향으로 확장\n",
    "\n",
    "print(\"vector:\", vector)\n",
    "print(\"vector.ndim:\", vector.ndim)\n",
    "\n",
    "print(\"column_vector:\\n\", column_vector)\n",
    "print(\"column_vector.ndim:\", column_vector.ndim)\n",
    "\n",
    "print(\"first_element_column:\\n\", first_element_column) #scalar임\n",
    "print(\"first_element_column.ndim:\", first_element_column.ndim)\n",
    "\n",
    "print(\"range_column_vector:\\n\", range_column_vector)\n",
    "print(\"range_column_vector.ndim:\", range_column_vector.ndim)\n"
   ]
  },
  {
   "cell_type": "code",
   "execution_count": 15,
   "id": "6e9193c8-671d-45f7-9b59-c00e9dd6019c",
   "metadata": {},
   "outputs": [
    {
     "name": "stdout",
     "output_type": "stream",
     "text": [
      "[[[2]]\n",
      "\n",
      " [[3]]]\n",
      "(2, 1, 1)\n"
     ]
    }
   ],
   "source": [
    "range_column_vector_n = range_column_vector[:, np.newaxis]\n",
    "print(range_column_vector_n)\n",
    "print(range_column_vector_n.shape)"
   ]
  },
  {
   "cell_type": "markdown",
   "id": "6f767a96-9dc9-49f2-9efc-5b046f7f4043",
   "metadata": {
    "jp-MarkdownHeadingCollapsed": true
   },
   "source": [
    "# transpose"
   ]
  },
  {
   "cell_type": "code",
   "execution_count": 112,
   "id": "9ad06001-2c37-4e79-82bb-b0ef1dfc3757",
   "metadata": {},
   "outputs": [],
   "source": [
    "arr = np.array([1,2,3,4,5,6,7,8,9,10,11,12])\n",
    "arr = arr.reshape(4,3,1)"
   ]
  },
  {
   "cell_type": "code",
   "execution_count": 113,
   "id": "1f0067ec-0fc8-4978-b392-8729000ad2f2",
   "metadata": {},
   "outputs": [
    {
     "data": {
      "text/plain": [
       "array([[[ 1],\n",
       "        [ 2],\n",
       "        [ 3]],\n",
       "\n",
       "       [[ 4],\n",
       "        [ 5],\n",
       "        [ 6]],\n",
       "\n",
       "       [[ 7],\n",
       "        [ 8],\n",
       "        [ 9]],\n",
       "\n",
       "       [[10],\n",
       "        [11],\n",
       "        [12]]])"
      ]
     },
     "execution_count": 113,
     "metadata": {},
     "output_type": "execute_result"
    }
   ],
   "source": [
    "arr"
   ]
  },
  {
   "cell_type": "code",
   "execution_count": 27,
   "id": "a4154a74-578e-40b6-ab3a-cec7b9cb2774",
   "metadata": {},
   "outputs": [
    {
     "data": {
      "text/plain": [
       "array([[[ 1,  5,  9],\n",
       "        [ 2,  6, 10],\n",
       "        [ 3,  7, 11],\n",
       "        [ 4,  8, 12]]])"
      ]
     },
     "execution_count": 27,
     "metadata": {},
     "output_type": "execute_result"
    }
   ],
   "source": [
    "arr.transpose()"
   ]
  },
  {
   "cell_type": "code",
   "execution_count": 28,
   "id": "3ae7bd06-7d4f-481d-a211-7595549596db",
   "metadata": {},
   "outputs": [
    {
     "data": {
      "text/plain": [
       "(1, 4, 3)"
      ]
     },
     "execution_count": 28,
     "metadata": {},
     "output_type": "execute_result"
    }
   ],
   "source": [
    "arr.transpose().shape"
   ]
  },
  {
   "cell_type": "markdown",
   "id": "41c4eefd-d9c7-431a-9b59-3038fe974404",
   "metadata": {
    "jp-MarkdownHeadingCollapsed": true
   },
   "source": [
    "# type 속성"
   ]
  },
  {
   "cell_type": "code",
   "execution_count": 29,
   "id": "41e56caa-8bc4-40a1-843f-44a6c1707c15",
   "metadata": {},
   "outputs": [
    {
     "name": "stdout",
     "output_type": "stream",
     "text": [
      "int16\n",
      "2\n",
      "6\n"
     ]
    }
   ],
   "source": [
    "array = np.array([10, 20, 30], dtype=np.int16)\n",
    "\n",
    "print(array.dtype)    # 배열의 데이터 타입을 반환 출력: int16\n",
    "print(array.itemsize) # 배열의 각 요소가 차지하는 바이트 크기 확인 출력: 2 \n",
    "print(array.nbytes)   # 배열 전체의 메모리 사용량 확인 출력: 6 "
   ]
  },
  {
   "cell_type": "markdown",
   "id": "90dbb0f5-665c-420f-afc3-ad5c746aeaab",
   "metadata": {},
   "source": [
    "## 타입 변환"
   ]
  },
  {
   "cell_type": "code",
   "execution_count": 48,
   "id": "2f633b14-effb-4b38-8ca9-c751fd7a2430",
   "metadata": {},
   "outputs": [
    {
     "name": "stdout",
     "output_type": "stream",
     "text": [
      "float64\n",
      "[-2  2  3]\n"
     ]
    }
   ],
   "source": [
    "array = np.array([510, 2, 3], dtype=np.int32)\n",
    "\n",
    "# int32 -> float64로 변환\n",
    "converted_array = array.astype(np.float64)\n",
    "print(converted_array.dtype)\n",
    "\n",
    "# float64 -> int8로 변환 (데이터 손실 주의)\n",
    "converted_int_array = converted_array.astype(np.int8)\n",
    "print(converted_int_array)"
   ]
  },
  {
   "cell_type": "code",
   "execution_count": null,
   "id": "1c78c25c-64ff-433a-b05c-51c08340db54",
   "metadata": {},
   "outputs": [],
   "source": []
  },
  {
   "cell_type": "markdown",
   "id": "c879ff13-f364-413a-9d53-2f2e91f811d3",
   "metadata": {
    "jp-MarkdownHeadingCollapsed": true
   },
   "source": [
    "# 인덱싱"
   ]
  },
  {
   "cell_type": "code",
   "execution_count": 31,
   "id": "2dccee3c-0df3-4448-a3a3-f9ff9781a3b9",
   "metadata": {},
   "outputs": [
    {
     "name": "stdout",
     "output_type": "stream",
     "text": [
      "6\n",
      "[1 2 3]\n",
      "[2 5 8]\n"
     ]
    }
   ],
   "source": [
    "matrix = np.array([[1, 2, 3],\n",
    "                   [4, 5, 6],\n",
    "                   [7, 8, 9]])\n",
    "\n",
    "# 특정 요소 접근\n",
    "print(matrix[1, 2]) # 2행 3열\n",
    "\n",
    "# 특정 행 전체 선택\n",
    "print(matrix[0]) # 1행 전체\n",
    "\n",
    "# 특정 열만 선택\n",
    "print(matrix[:, 1]) # 모든 행의 2열"
   ]
  },
  {
   "cell_type": "code",
   "execution_count": 34,
   "id": "82d6ae31-c120-4f6c-b920-074996b2fccb",
   "metadata": {},
   "outputs": [
    {
     "name": "stdout",
     "output_type": "stream",
     "text": [
      "3\n"
     ]
    }
   ],
   "source": [
    "print(matrix[0,2])"
   ]
  },
  {
   "cell_type": "code",
   "execution_count": 35,
   "id": "ab7812a1-8e74-44db-9e81-dc215f57016e",
   "metadata": {},
   "outputs": [
    {
     "name": "stdout",
     "output_type": "stream",
     "text": [
      "[[1 2 3]\n",
      " [7 8 9]]\n"
     ]
    }
   ],
   "source": [
    "print(matrix[[0,2]])"
   ]
  },
  {
   "cell_type": "code",
   "execution_count": 36,
   "id": "5890eb3b-fcdd-4727-90f0-f49a09eea559",
   "metadata": {},
   "outputs": [
    {
     "name": "stdout",
     "output_type": "stream",
     "text": [
      "[3 9]\n"
     ]
    }
   ],
   "source": [
    "print(matrix[[0,2],2])"
   ]
  },
  {
   "cell_type": "code",
   "execution_count": 41,
   "id": "c26362f1-a883-4ac6-af72-1fffd54d2770",
   "metadata": {},
   "outputs": [
    {
     "name": "stdout",
     "output_type": "stream",
     "text": [
      "[1 9]\n"
     ]
    }
   ],
   "source": [
    "print(matrix[[0,2],[0,2]])"
   ]
  },
  {
   "cell_type": "code",
   "execution_count": 45,
   "id": "ecc7aa63-fd20-45a6-83d7-6c1c31905383",
   "metadata": {},
   "outputs": [
    {
     "name": "stdout",
     "output_type": "stream",
     "text": [
      "[10 20 99 40]\n",
      "[10 55 77 40]\n"
     ]
    }
   ],
   "source": [
    "array = np.array([10, 20, 30, 40])\n",
    "\n",
    "# 특정 요소 수정\n",
    "array[2] = 99\n",
    "print(array)  # 출력: [10 20 99 40]\n",
    "\n",
    "# 여러 요소 수정\n",
    "array[1:3] = [55, 77]\n",
    "print(array)  # 출력: [10 55 77 40]"
   ]
  },
  {
   "cell_type": "markdown",
   "id": "cbc72c0e-9100-4619-98a8-6654c8b7ba5f",
   "metadata": {
    "jp-MarkdownHeadingCollapsed": true
   },
   "source": [
    "# 연산"
   ]
  },
  {
   "cell_type": "code",
   "execution_count": 49,
   "id": "001b7e56-0bba-49c1-a014-7a96bd16008a",
   "metadata": {},
   "outputs": [
    {
     "name": "stdout",
     "output_type": "stream",
     "text": [
      "np.transpose(matrix): \n",
      " [[1 3]\n",
      " [2 4]]\n",
      "np.dot(matrix, vector):  [ 8 18]\n",
      "np.linalg.inv(matrix): \n",
      " [[-2.   1. ]\n",
      " [ 1.5 -0.5]]\n"
     ]
    }
   ],
   "source": [
    "matrix = np.array([[1, 2], [3, 4]])    \n",
    "\n",
    "# 전치 행렬\n",
    "print('np.transpose(matrix): \\n', np.transpose(matrix))\n",
    "\n",
    "# 행렬 곱 (내적)\n",
    "vector = np.array([2, 3])\n",
    "print('np.dot(matrix, vector): ',np.dot(matrix, vector))#(2,2)@(2,)\n",
    "\n",
    "# 역행렬 계산\n",
    "inverse = np.linalg.inv(matrix)\n",
    "print('np.linalg.inv(matrix): \\n', inverse)"
   ]
  },
  {
   "cell_type": "markdown",
   "id": "258501b9-d0af-47d3-87c0-0292c7f3cfb8",
   "metadata": {},
   "source": [
    "# broadcasting"
   ]
  },
  {
   "cell_type": "code",
   "execution_count": 71,
   "id": "b5a44332-e698-426b-9f4e-cb48bb0f6f3d",
   "metadata": {},
   "outputs": [],
   "source": [
    "a = np.array([1.0,2.0,3.0])\n",
    "b = np.array([2.0,2.0,2.0])\n"
   ]
  },
  {
   "cell_type": "code",
   "execution_count": 72,
   "id": "48ee58bc-4218-433d-b013-defc00641495",
   "metadata": {},
   "outputs": [
    {
     "name": "stdout",
     "output_type": "stream",
     "text": [
      "263 ns ± 0.615 ns per loop (mean ± std. dev. of 7 runs, 1,000,000 loops each)\n"
     ]
    }
   ],
   "source": [
    "%%timeit\n",
    "a*b"
   ]
  },
  {
   "cell_type": "code",
   "execution_count": 73,
   "id": "03c9c1f6-781f-4e09-813e-433dee22422c",
   "metadata": {},
   "outputs": [],
   "source": [
    "c = np.array([1.0,2.0,3.0])\n",
    "d = np.array(2.0)"
   ]
  },
  {
   "cell_type": "code",
   "execution_count": 74,
   "id": "2dba27e4-6e0e-4cac-9c1b-7600f59af966",
   "metadata": {},
   "outputs": [
    {
     "name": "stdout",
     "output_type": "stream",
     "text": [
      "266 ns ± 0.789 ns per loop (mean ± std. dev. of 7 runs, 1,000,000 loops each)\n"
     ]
    }
   ],
   "source": [
    "%%timeit\n",
    "c*d"
   ]
  },
  {
   "cell_type": "code",
   "execution_count": 70,
   "id": "6d67ab02-080b-4dd6-8ee9-aa0c68d24c88",
   "metadata": {},
   "outputs": [
    {
     "data": {
      "text/plain": [
       "array([2., 4., 6.])"
      ]
     },
     "execution_count": 70,
     "metadata": {},
     "output_type": "execute_result"
    }
   ],
   "source": [
    "c*d"
   ]
  },
  {
   "cell_type": "code",
   "execution_count": 88,
   "id": "2e12595b-871e-44df-92da-970f4c89afb4",
   "metadata": {},
   "outputs": [],
   "source": [
    "from numpy import sum, array, argmin, sqrt"
   ]
  },
  {
   "cell_type": "code",
   "execution_count": 95,
   "id": "4992ef7c-9150-4a33-8531-7d08d740e754",
   "metadata": {},
   "outputs": [
    {
     "data": {
      "text/plain": [
       "array([[[1, 2],\n",
       "        [3, 4]],\n",
       "\n",
       "       [[5, 6],\n",
       "        [7, 8]]])"
      ]
     },
     "execution_count": 95,
     "metadata": {},
     "output_type": "execute_result"
    }
   ],
   "source": [
    "arr = np.array(range(1,9)).reshape(2,2,2)\n",
    "arr"
   ]
  },
  {
   "cell_type": "code",
   "execution_count": 96,
   "id": "76fe08ed-dd38-452b-b020-2c2349181b1c",
   "metadata": {},
   "outputs": [],
   "source": [
    "barr = np.array(range(1,3))"
   ]
  },
  {
   "cell_type": "code",
   "execution_count": 97,
   "id": "a6294e44-2cf1-4d4a-90f4-053f47900243",
   "metadata": {},
   "outputs": [
    {
     "data": {
      "text/plain": [
       "array([[[0, 0],\n",
       "        [2, 2]],\n",
       "\n",
       "       [[4, 4],\n",
       "        [6, 6]]])"
      ]
     },
     "execution_count": 97,
     "metadata": {},
     "output_type": "execute_result"
    }
   ],
   "source": [
    "diff = arr-barr\n",
    "diff"
   ]
  },
  {
   "cell_type": "code",
   "execution_count": 99,
   "id": "bd9e4e3a-c5fc-4dbb-ba11-a27abcb84d91",
   "metadata": {},
   "outputs": [
    {
     "data": {
      "text/plain": [
       "array([[4, 4],\n",
       "       [8, 8]])"
      ]
     },
     "execution_count": 99,
     "metadata": {},
     "output_type": "execute_result"
    }
   ],
   "source": [
    "sum(diff, axis = 0)"
   ]
  },
  {
   "cell_type": "code",
   "execution_count": 100,
   "id": "fcf1afe9-c5b3-4cce-ba21-5e2035921fd5",
   "metadata": {},
   "outputs": [
    {
     "data": {
      "text/plain": [
       "array([[ 2,  2],\n",
       "       [10, 10]])"
      ]
     },
     "execution_count": 100,
     "metadata": {},
     "output_type": "execute_result"
    }
   ],
   "source": [
    "sum(diff, axis = 1)"
   ]
  },
  {
   "cell_type": "code",
   "execution_count": 101,
   "id": "8691663a-21ac-44a8-9a2a-3ebea6b47c40",
   "metadata": {},
   "outputs": [
    {
     "data": {
      "text/plain": [
       "array([[ 0,  4],\n",
       "       [ 8, 12]])"
      ]
     },
     "execution_count": 101,
     "metadata": {},
     "output_type": "execute_result"
    }
   ],
   "source": [
    "sum(diff, axis = 2)"
   ]
  },
  {
   "cell_type": "code",
   "execution_count": 107,
   "id": "c785c7b7-05bc-4957-b4f8-144a37660612",
   "metadata": {},
   "outputs": [
    {
     "data": {
      "text/plain": [
       "np.int64(6)"
      ]
     },
     "execution_count": 107,
     "metadata": {},
     "output_type": "execute_result"
    }
   ],
   "source": [
    "diff[1,1,0]"
   ]
  },
  {
   "cell_type": "code",
   "execution_count": 4,
   "id": "e723937b-f72f-4767-b24d-ac2cbaf02252",
   "metadata": {},
   "outputs": [
    {
     "name": "stdout",
     "output_type": "stream",
     "text": [
      "(2, 2, 3, 1)\n"
     ]
    },
    {
     "data": {
      "text/plain": [
       "(2, 2, 3, 1, 1)"
      ]
     },
     "execution_count": 4,
     "metadata": {},
     "output_type": "execute_result"
    }
   ],
   "source": [
    "arr = np.array([1,2,3,4,5,6,7,8,9,10,11,12])\n",
    "arr = arr.reshape(2,2,3,1) #arr.shape == (2,2,3,1)\n",
    "print(arr.shape)\n",
    "arr = arr[:,:,np.newaxis] #arr.shape == (2,2,1,3,1)\n",
    "print(arr.shape)"
   ]
  },
  {
   "cell_type": "code",
   "execution_count": 119,
   "id": "00dfdc05-36de-4594-9e85-70835067fdd8",
   "metadata": {},
   "outputs": [],
   "source": [
    "arr = np.array(range(1,5))\n",
    "arr = arr.reshape(2,2)\n",
    "arr = arr[:,np.newaxis]"
   ]
  },
  {
   "cell_type": "code",
   "execution_count": 121,
   "id": "d9072781-3ea3-4625-a008-0dbd8ce1bc39",
   "metadata": {},
   "outputs": [
    {
     "data": {
      "text/plain": [
       "(2, 1, 2)"
      ]
     },
     "execution_count": 121,
     "metadata": {},
     "output_type": "execute_result"
    }
   ],
   "source": [
    "arr.shape"
   ]
  },
  {
   "cell_type": "markdown",
   "id": "59a2c769-00de-46b4-b618-10328a9e7b46",
   "metadata": {},
   "source": [
    "# pandas"
   ]
  },
  {
   "cell_type": "code",
   "execution_count": 1,
   "id": "de9306ad-898f-4665-98e1-841d667e33ec",
   "metadata": {},
   "outputs": [],
   "source": [
    "import pandas as pd"
   ]
  },
  {
   "cell_type": "code",
   "execution_count": 2,
   "id": "0d96ebce-eef3-4dc3-96e0-03b796fe404b",
   "metadata": {},
   "outputs": [],
   "source": [
    "data = {\n",
    "    'name' : ['chris'],\n",
    "    'age' : [28],\n",
    "    'city' : ['seoul'],\n",
    "}\n",
    "df = pd.DataFrame(data)"
   ]
  },
  {
   "cell_type": "code",
   "execution_count": 3,
   "id": "23198ae0-0536-4a26-a5ba-e5d5c8e68b48",
   "metadata": {},
   "outputs": [
    {
     "data": {
      "text/html": [
       "<div>\n",
       "<style scoped>\n",
       "    .dataframe tbody tr th:only-of-type {\n",
       "        vertical-align: middle;\n",
       "    }\n",
       "\n",
       "    .dataframe tbody tr th {\n",
       "        vertical-align: top;\n",
       "    }\n",
       "\n",
       "    .dataframe thead th {\n",
       "        text-align: right;\n",
       "    }\n",
       "</style>\n",
       "<table border=\"1\" class=\"dataframe\">\n",
       "  <thead>\n",
       "    <tr style=\"text-align: right;\">\n",
       "      <th></th>\n",
       "      <th>name</th>\n",
       "      <th>age</th>\n",
       "      <th>city</th>\n",
       "    </tr>\n",
       "  </thead>\n",
       "  <tbody>\n",
       "    <tr>\n",
       "      <th>0</th>\n",
       "      <td>chris</td>\n",
       "      <td>28</td>\n",
       "      <td>seoul</td>\n",
       "    </tr>\n",
       "  </tbody>\n",
       "</table>\n",
       "</div>"
      ],
      "text/plain": [
       "    name  age   city\n",
       "0  chris   28  seoul"
      ]
     },
     "execution_count": 3,
     "metadata": {},
     "output_type": "execute_result"
    }
   ],
   "source": [
    "df"
   ]
  },
  {
   "cell_type": "code",
   "execution_count": 4,
   "id": "94cd3456-065e-448a-8454-3913983086ac",
   "metadata": {},
   "outputs": [
    {
     "name": "stdout",
     "output_type": "stream",
     "text": [
      "series_from_list:\n",
      " 0    1\n",
      "1    2\n",
      "2    3\n",
      "3    4\n",
      "dtype: int64\n",
      "series_from_dict:\n",
      " a    10\n",
      "b    20\n",
      "c    30\n",
      "dtype: int64\n",
      "series_with_index:\n",
      " x    100\n",
      "y    200\n",
      "z    300\n",
      "dtype: int64\n",
      "series_with_dtype:\n",
      " 0    1.5\n",
      "1    2.5\n",
      "2    3.5\n",
      "dtype: float64\n"
     ]
    }
   ],
   "source": [
    "import pandas as pd\n",
    "\n",
    "# 리스트를 이용한 생성\n",
    "series_from_list = pd.Series([1, 2, 3, 4])\n",
    "print(\"series_from_list:\\n\", series_from_list)\n",
    "\n",
    "# 딕셔너리를 이용한 생성 (인덱스 지정)\n",
    "series_from_dict = pd.Series({'a': 10, 'b': 20, 'c': 30})\n",
    "print(\"series_from_dict:\\n\", series_from_dict)\n",
    "\n",
    "# 인덱스와 함께 생성\n",
    "series_with_index = pd.Series([100, 200, 300], index=['x', 'y', 'z'])\n",
    "print(\"series_with_index:\\n\", series_with_index)\n",
    "\n",
    "# 특정 데이터 타입 지정\n",
    "series_with_dtype = pd.Series([1.5, 2.5, 3.5], dtype='float64')\n",
    "print(\"series_with_dtype:\\n\", series_with_dtype)"
   ]
  },
  {
   "cell_type": "code",
   "execution_count": 15,
   "id": "47853a25-047f-4676-8494-43be95dae376",
   "metadata": {},
   "outputs": [
    {
     "name": "stdout",
     "output_type": "stream",
     "text": [
      "[1 2 3 4]\n",
      "RangeIndex(start=0, stop=4, step=1)\n",
      "int64\n",
      "(4,)\n",
      "4\n",
      "None\n"
     ]
    }
   ],
   "source": [
    "#series attribute\n",
    "a = series_from_list\n",
    "print(a.values) #type : ndarray\n",
    "print(a.index)\n",
    "print(a.dtype)\n",
    "print(a.shape)\n",
    "print(a.size)\n",
    "print(a.name)"
   ]
  },
  {
   "cell_type": "code",
   "execution_count": 59,
   "id": "261d9d1e-f299-4ce3-8391-48c93cd93517",
   "metadata": {},
   "outputs": [],
   "source": [
    "# 성적 시리즈 생성\n",
    "grades = pd.Series([85, 90, 78, 92], index=['국어', '영어', '수학', '과학'])\n",
    "\n"
   ]
  },
  {
   "cell_type": "code",
   "execution_count": 19,
   "id": "38f8c601-b045-4706-b2fd-303c63f03dd3",
   "metadata": {},
   "outputs": [
    {
     "data": {
      "text/plain": [
       "count     4.000000\n",
       "mean     86.250000\n",
       "std       6.238322\n",
       "min      78.000000\n",
       "25%      83.250000\n",
       "50%      87.500000\n",
       "75%      90.500000\n",
       "max      92.000000\n",
       "dtype: float64"
      ]
     },
     "execution_count": 19,
     "metadata": {},
     "output_type": "execute_result"
    }
   ],
   "source": [
    "grades.describe()"
   ]
  },
  {
   "cell_type": "code",
   "execution_count": 56,
   "id": "a02d285b-6c02-4f11-a701-c46307d3a779",
   "metadata": {},
   "outputs": [
    {
     "data": {
      "text/html": [
       "<div>\n",
       "<style scoped>\n",
       "    .dataframe tbody tr th:only-of-type {\n",
       "        vertical-align: middle;\n",
       "    }\n",
       "\n",
       "    .dataframe tbody tr th {\n",
       "        vertical-align: top;\n",
       "    }\n",
       "\n",
       "    .dataframe thead th {\n",
       "        text-align: right;\n",
       "    }\n",
       "</style>\n",
       "<table border=\"1\" class=\"dataframe\">\n",
       "  <thead>\n",
       "    <tr style=\"text-align: right;\">\n",
       "      <th></th>\n",
       "      <th>이름</th>\n",
       "      <th>국어</th>\n",
       "      <th>영어</th>\n",
       "      <th>수학</th>\n",
       "    </tr>\n",
       "  </thead>\n",
       "  <tbody>\n",
       "    <tr>\n",
       "      <th>0</th>\n",
       "      <td>홍길동</td>\n",
       "      <td>90</td>\n",
       "      <td>88</td>\n",
       "      <td>95</td>\n",
       "    </tr>\n",
       "    <tr>\n",
       "      <th>1</th>\n",
       "      <td>김철수</td>\n",
       "      <td>85</td>\n",
       "      <td>92</td>\n",
       "      <td>87</td>\n",
       "    </tr>\n",
       "    <tr>\n",
       "      <th>2</th>\n",
       "      <td>박영희</td>\n",
       "      <td>78</td>\n",
       "      <td>80</td>\n",
       "      <td>91</td>\n",
       "    </tr>\n",
       "    <tr>\n",
       "      <th>3</th>\n",
       "      <td>이순신</td>\n",
       "      <td>92</td>\n",
       "      <td>90</td>\n",
       "      <td>94</td>\n",
       "    </tr>\n",
       "    <tr>\n",
       "      <th>4</th>\n",
       "      <td>강감찬</td>\n",
       "      <td>88</td>\n",
       "      <td>85</td>\n",
       "      <td>89</td>\n",
       "    </tr>\n",
       "    <tr>\n",
       "      <th>5</th>\n",
       "      <td>신사임당</td>\n",
       "      <td>95</td>\n",
       "      <td>93</td>\n",
       "      <td>92</td>\n",
       "    </tr>\n",
       "    <tr>\n",
       "      <th>6</th>\n",
       "      <td>율곡이이</td>\n",
       "      <td>89</td>\n",
       "      <td>87</td>\n",
       "      <td>90</td>\n",
       "    </tr>\n",
       "    <tr>\n",
       "      <th>7</th>\n",
       "      <td>정약용</td>\n",
       "      <td>91</td>\n",
       "      <td>90</td>\n",
       "      <td>93</td>\n",
       "    </tr>\n",
       "    <tr>\n",
       "      <th>8</th>\n",
       "      <td>허준</td>\n",
       "      <td>86</td>\n",
       "      <td>89</td>\n",
       "      <td>88</td>\n",
       "    </tr>\n",
       "    <tr>\n",
       "      <th>9</th>\n",
       "      <td>세종대왕</td>\n",
       "      <td>93</td>\n",
       "      <td>91</td>\n",
       "      <td>94</td>\n",
       "    </tr>\n",
       "  </tbody>\n",
       "</table>\n",
       "</div>"
      ],
      "text/plain": [
       "     이름  국어  영어  수학\n",
       "0   홍길동  90  88  95\n",
       "1   김철수  85  92  87\n",
       "2   박영희  78  80  91\n",
       "3   이순신  92  90  94\n",
       "4   강감찬  88  85  89\n",
       "5  신사임당  95  93  92\n",
       "6  율곡이이  89  87  90\n",
       "7   정약용  91  90  93\n",
       "8    허준  86  89  88\n",
       "9  세종대왕  93  91  94"
      ]
     },
     "execution_count": 56,
     "metadata": {},
     "output_type": "execute_result"
    }
   ],
   "source": [
    "# 학생들의 성적 데이터 (10명)\n",
    "data = {\n",
    "    '이름': ['홍길동', '김철수', '박영희', '이순신', '강감찬', '신사임당', '율곡이이', '정약용', '허준', '세종대왕'],\n",
    "    '국어': [90, 85, 78, 92, 88, 95, 89, 91, 86, 93],\n",
    "    '영어': [88, 92, 80, 90, 85, 93, 87, 90, 89, 91],\n",
    "    '수학': [95, 87, 91, 94, 89, 92, 90, 93, 88, 94]\n",
    "}\n",
    "\n",
    "# 데이터프레임 생성\n",
    "df = pd.DataFrame(data)\n",
    "df"
   ]
  },
  {
   "cell_type": "code",
   "execution_count": 28,
   "id": "cbbd3e9b-6657-46e8-be1b-5fe33b79a5d5",
   "metadata": {},
   "outputs": [
    {
     "name": "stdout",
     "output_type": "stream",
     "text": [
      "RangeIndex(start=0, stop=10, step=1)\n"
     ]
    }
   ],
   "source": [
    "print(df.index)"
   ]
  },
  {
   "cell_type": "code",
   "execution_count": 31,
   "id": "3bc78dbb-7a13-44b7-81b9-80b293749507",
   "metadata": {},
   "outputs": [],
   "source": [
    "df = df.set_index('이름')"
   ]
  },
  {
   "cell_type": "code",
   "execution_count": 32,
   "id": "ab3fffe5-0ae8-4d84-9910-cb1da9216e9d",
   "metadata": {},
   "outputs": [
    {
     "data": {
      "text/plain": [
       "Index(['홍길동', '김철수', '박영희', '이순신', '강감찬', '신사임당', '율곡이이', '정약용', '허준', '세종대왕'], dtype='object', name='이름')"
      ]
     },
     "execution_count": 32,
     "metadata": {},
     "output_type": "execute_result"
    }
   ],
   "source": [
    "df.index"
   ]
  },
  {
   "cell_type": "code",
   "execution_count": 34,
   "id": "787256d2-2e88-449a-99c8-3e1dacf0c2ad",
   "metadata": {},
   "outputs": [
    {
     "data": {
      "text/html": [
       "<div>\n",
       "<style scoped>\n",
       "    .dataframe tbody tr th:only-of-type {\n",
       "        vertical-align: middle;\n",
       "    }\n",
       "\n",
       "    .dataframe tbody tr th {\n",
       "        vertical-align: top;\n",
       "    }\n",
       "\n",
       "    .dataframe thead th {\n",
       "        text-align: right;\n",
       "    }\n",
       "</style>\n",
       "<table border=\"1\" class=\"dataframe\">\n",
       "  <thead>\n",
       "    <tr style=\"text-align: right;\">\n",
       "      <th></th>\n",
       "      <th>국어</th>\n",
       "      <th>영어</th>\n",
       "      <th>수학</th>\n",
       "    </tr>\n",
       "    <tr>\n",
       "      <th>이름</th>\n",
       "      <th></th>\n",
       "      <th></th>\n",
       "      <th></th>\n",
       "    </tr>\n",
       "  </thead>\n",
       "  <tbody>\n",
       "    <tr>\n",
       "      <th>이순신</th>\n",
       "      <td>92</td>\n",
       "      <td>90</td>\n",
       "      <td>94</td>\n",
       "    </tr>\n",
       "    <tr>\n",
       "      <th>강감찬</th>\n",
       "      <td>88</td>\n",
       "      <td>85</td>\n",
       "      <td>89</td>\n",
       "    </tr>\n",
       "    <tr>\n",
       "      <th>신사임당</th>\n",
       "      <td>95</td>\n",
       "      <td>93</td>\n",
       "      <td>92</td>\n",
       "    </tr>\n",
       "  </tbody>\n",
       "</table>\n",
       "</div>"
      ],
      "text/plain": [
       "      국어  영어  수학\n",
       "이름              \n",
       "이순신   92  90  94\n",
       "강감찬   88  85  89\n",
       "신사임당  95  93  92"
      ]
     },
     "execution_count": 34,
     "metadata": {},
     "output_type": "execute_result"
    }
   ],
   "source": [
    "df.loc['이순신':'신사임당']"
   ]
  },
  {
   "cell_type": "code",
   "execution_count": 36,
   "id": "7f7e5dcb-9b42-472a-95a3-3e168c79ceb1",
   "metadata": {},
   "outputs": [
    {
     "data": {
      "text/html": [
       "<div>\n",
       "<style scoped>\n",
       "    .dataframe tbody tr th:only-of-type {\n",
       "        vertical-align: middle;\n",
       "    }\n",
       "\n",
       "    .dataframe tbody tr th {\n",
       "        vertical-align: top;\n",
       "    }\n",
       "\n",
       "    .dataframe thead th {\n",
       "        text-align: right;\n",
       "    }\n",
       "</style>\n",
       "<table border=\"1\" class=\"dataframe\">\n",
       "  <thead>\n",
       "    <tr style=\"text-align: right;\">\n",
       "      <th></th>\n",
       "      <th>국어</th>\n",
       "      <th>영어</th>\n",
       "      <th>수학</th>\n",
       "    </tr>\n",
       "    <tr>\n",
       "      <th>이름</th>\n",
       "      <th></th>\n",
       "      <th></th>\n",
       "      <th></th>\n",
       "    </tr>\n",
       "  </thead>\n",
       "  <tbody>\n",
       "    <tr>\n",
       "      <th>이순신</th>\n",
       "      <td>92</td>\n",
       "      <td>90</td>\n",
       "      <td>94</td>\n",
       "    </tr>\n",
       "    <tr>\n",
       "      <th>신사임당</th>\n",
       "      <td>95</td>\n",
       "      <td>93</td>\n",
       "      <td>92</td>\n",
       "    </tr>\n",
       "  </tbody>\n",
       "</table>\n",
       "</div>"
      ],
      "text/plain": [
       "      국어  영어  수학\n",
       "이름              \n",
       "이순신   92  90  94\n",
       "신사임당  95  93  92"
      ]
     },
     "execution_count": 36,
     "metadata": {},
     "output_type": "execute_result"
    }
   ],
   "source": [
    "df.loc[['이순신','신사임당']]"
   ]
  },
  {
   "cell_type": "code",
   "execution_count": 58,
   "id": "258cb070-f891-48ed-88d1-22a0f57a19ee",
   "metadata": {},
   "outputs": [
    {
     "data": {
      "text/plain": [
       "이름    이순신\n",
       "국어     92\n",
       "영어     90\n",
       "수학     94\n",
       "Name: 3, dtype: object"
      ]
     },
     "execution_count": 58,
     "metadata": {},
     "output_type": "execute_result"
    }
   ],
   "source": [
    "df.iloc[3] #이순신 index = 3"
   ]
  },
  {
   "cell_type": "code",
   "execution_count": 45,
   "id": "36ada21d-085f-4ea1-9550-4dc2b815d509",
   "metadata": {},
   "outputs": [],
   "source": [
    "df['국적'] = '한국'"
   ]
  },
  {
   "cell_type": "code",
   "execution_count": 46,
   "id": "ce811e8c-0836-4cbc-83d5-f4746f3049c7",
   "metadata": {},
   "outputs": [
    {
     "data": {
      "text/html": [
       "<div>\n",
       "<style scoped>\n",
       "    .dataframe tbody tr th:only-of-type {\n",
       "        vertical-align: middle;\n",
       "    }\n",
       "\n",
       "    .dataframe tbody tr th {\n",
       "        vertical-align: top;\n",
       "    }\n",
       "\n",
       "    .dataframe thead th {\n",
       "        text-align: right;\n",
       "    }\n",
       "</style>\n",
       "<table border=\"1\" class=\"dataframe\">\n",
       "  <thead>\n",
       "    <tr style=\"text-align: right;\">\n",
       "      <th></th>\n",
       "      <th>국어</th>\n",
       "      <th>영어</th>\n",
       "      <th>수학</th>\n",
       "      <th>국적</th>\n",
       "    </tr>\n",
       "    <tr>\n",
       "      <th>이름</th>\n",
       "      <th></th>\n",
       "      <th></th>\n",
       "      <th></th>\n",
       "      <th></th>\n",
       "    </tr>\n",
       "  </thead>\n",
       "  <tbody>\n",
       "    <tr>\n",
       "      <th>홍길동</th>\n",
       "      <td>90</td>\n",
       "      <td>88</td>\n",
       "      <td>95</td>\n",
       "      <td>한국</td>\n",
       "    </tr>\n",
       "    <tr>\n",
       "      <th>김철수</th>\n",
       "      <td>85</td>\n",
       "      <td>92</td>\n",
       "      <td>87</td>\n",
       "      <td>한국</td>\n",
       "    </tr>\n",
       "    <tr>\n",
       "      <th>박영희</th>\n",
       "      <td>78</td>\n",
       "      <td>80</td>\n",
       "      <td>91</td>\n",
       "      <td>한국</td>\n",
       "    </tr>\n",
       "    <tr>\n",
       "      <th>이순신</th>\n",
       "      <td>92</td>\n",
       "      <td>90</td>\n",
       "      <td>94</td>\n",
       "      <td>한국</td>\n",
       "    </tr>\n",
       "    <tr>\n",
       "      <th>강감찬</th>\n",
       "      <td>88</td>\n",
       "      <td>85</td>\n",
       "      <td>89</td>\n",
       "      <td>한국</td>\n",
       "    </tr>\n",
       "    <tr>\n",
       "      <th>신사임당</th>\n",
       "      <td>95</td>\n",
       "      <td>93</td>\n",
       "      <td>92</td>\n",
       "      <td>한국</td>\n",
       "    </tr>\n",
       "    <tr>\n",
       "      <th>율곡이이</th>\n",
       "      <td>89</td>\n",
       "      <td>87</td>\n",
       "      <td>90</td>\n",
       "      <td>한국</td>\n",
       "    </tr>\n",
       "    <tr>\n",
       "      <th>정약용</th>\n",
       "      <td>91</td>\n",
       "      <td>90</td>\n",
       "      <td>93</td>\n",
       "      <td>한국</td>\n",
       "    </tr>\n",
       "    <tr>\n",
       "      <th>허준</th>\n",
       "      <td>86</td>\n",
       "      <td>89</td>\n",
       "      <td>88</td>\n",
       "      <td>한국</td>\n",
       "    </tr>\n",
       "    <tr>\n",
       "      <th>세종대왕</th>\n",
       "      <td>93</td>\n",
       "      <td>91</td>\n",
       "      <td>94</td>\n",
       "      <td>한국</td>\n",
       "    </tr>\n",
       "  </tbody>\n",
       "</table>\n",
       "</div>"
      ],
      "text/plain": [
       "      국어  영어  수학  국적\n",
       "이름                  \n",
       "홍길동   90  88  95  한국\n",
       "김철수   85  92  87  한국\n",
       "박영희   78  80  91  한국\n",
       "이순신   92  90  94  한국\n",
       "강감찬   88  85  89  한국\n",
       "신사임당  95  93  92  한국\n",
       "율곡이이  89  87  90  한국\n",
       "정약용   91  90  93  한국\n",
       "허준    86  89  88  한국\n",
       "세종대왕  93  91  94  한국"
      ]
     },
     "execution_count": 46,
     "metadata": {},
     "output_type": "execute_result"
    }
   ],
   "source": [
    "df"
   ]
  },
  {
   "cell_type": "code",
   "execution_count": 53,
   "id": "5f578d89-afd2-4928-92cc-4678caf05c6c",
   "metadata": {},
   "outputs": [
    {
     "data": {
      "text/html": [
       "<div>\n",
       "<style scoped>\n",
       "    .dataframe tbody tr th:only-of-type {\n",
       "        vertical-align: middle;\n",
       "    }\n",
       "\n",
       "    .dataframe tbody tr th {\n",
       "        vertical-align: top;\n",
       "    }\n",
       "\n",
       "    .dataframe thead th {\n",
       "        text-align: right;\n",
       "    }\n",
       "</style>\n",
       "<table border=\"1\" class=\"dataframe\">\n",
       "  <thead>\n",
       "    <tr style=\"text-align: right;\">\n",
       "      <th></th>\n",
       "      <th>국어</th>\n",
       "      <th>영어</th>\n",
       "      <th>수학</th>\n",
       "    </tr>\n",
       "    <tr>\n",
       "      <th>이름</th>\n",
       "      <th></th>\n",
       "      <th></th>\n",
       "      <th></th>\n",
       "    </tr>\n",
       "  </thead>\n",
       "  <tbody>\n",
       "    <tr>\n",
       "      <th>홍길동</th>\n",
       "      <td>90</td>\n",
       "      <td>88</td>\n",
       "      <td>95</td>\n",
       "    </tr>\n",
       "    <tr>\n",
       "      <th>김철수</th>\n",
       "      <td>85</td>\n",
       "      <td>92</td>\n",
       "      <td>87</td>\n",
       "    </tr>\n",
       "    <tr>\n",
       "      <th>박영희</th>\n",
       "      <td>78</td>\n",
       "      <td>80</td>\n",
       "      <td>91</td>\n",
       "    </tr>\n",
       "    <tr>\n",
       "      <th>이순신</th>\n",
       "      <td>92</td>\n",
       "      <td>90</td>\n",
       "      <td>94</td>\n",
       "    </tr>\n",
       "    <tr>\n",
       "      <th>강감찬</th>\n",
       "      <td>88</td>\n",
       "      <td>85</td>\n",
       "      <td>89</td>\n",
       "    </tr>\n",
       "    <tr>\n",
       "      <th>신사임당</th>\n",
       "      <td>95</td>\n",
       "      <td>93</td>\n",
       "      <td>92</td>\n",
       "    </tr>\n",
       "    <tr>\n",
       "      <th>율곡이이</th>\n",
       "      <td>89</td>\n",
       "      <td>87</td>\n",
       "      <td>90</td>\n",
       "    </tr>\n",
       "    <tr>\n",
       "      <th>정약용</th>\n",
       "      <td>91</td>\n",
       "      <td>90</td>\n",
       "      <td>93</td>\n",
       "    </tr>\n",
       "    <tr>\n",
       "      <th>허준</th>\n",
       "      <td>86</td>\n",
       "      <td>89</td>\n",
       "      <td>88</td>\n",
       "    </tr>\n",
       "    <tr>\n",
       "      <th>세종대왕</th>\n",
       "      <td>93</td>\n",
       "      <td>91</td>\n",
       "      <td>94</td>\n",
       "    </tr>\n",
       "  </tbody>\n",
       "</table>\n",
       "</div>"
      ],
      "text/plain": [
       "      국어  영어  수학\n",
       "이름              \n",
       "홍길동   90  88  95\n",
       "김철수   85  92  87\n",
       "박영희   78  80  91\n",
       "이순신   92  90  94\n",
       "강감찬   88  85  89\n",
       "신사임당  95  93  92\n",
       "율곡이이  89  87  90\n",
       "정약용   91  90  93\n",
       "허준    86  89  88\n",
       "세종대왕  93  91  94"
      ]
     },
     "execution_count": 53,
     "metadata": {},
     "output_type": "execute_result"
    }
   ],
   "source": [
    "df.drop('국적', axis =1) #열벡터 삭제"
   ]
  },
  {
   "cell_type": "code",
   "execution_count": 61,
   "id": "0f62d8ab-aba1-4d0d-801d-74ecb7ab594f",
   "metadata": {},
   "outputs": [
    {
     "data": {
      "text/plain": [
       "이름    홍길동김철수박영희이순신강감찬신사임당율곡이이정약용허준세종대왕\n",
       "국어                                 887\n",
       "영어                                 885\n",
       "수학                                 913\n",
       "dtype: object"
      ]
     },
     "execution_count": 61,
     "metadata": {},
     "output_type": "execute_result"
    }
   ],
   "source": [
    "df.sum(axis=0)"
   ]
  },
  {
   "cell_type": "code",
   "execution_count": 64,
   "id": "ce60e796-d4c5-4283-ad28-7e09a6c33892",
   "metadata": {},
   "outputs": [],
   "source": [
    "df = df.set_index('이름')"
   ]
  },
  {
   "cell_type": "code",
   "execution_count": 66,
   "id": "7cbb936d-f9d0-4f04-be5b-093de516b330",
   "metadata": {},
   "outputs": [
    {
     "data": {
      "text/plain": [
       "이름\n",
       "홍길동     273\n",
       "김철수     264\n",
       "박영희     249\n",
       "이순신     276\n",
       "강감찬     262\n",
       "신사임당    280\n",
       "율곡이이    266\n",
       "정약용     274\n",
       "허준      263\n",
       "세종대왕    278\n",
       "dtype: int64"
      ]
     },
     "execution_count": 66,
     "metadata": {},
     "output_type": "execute_result"
    }
   ],
   "source": [
    "df.sum(axis=1)"
   ]
  },
  {
   "cell_type": "code",
   "execution_count": 67,
   "id": "510dca38-5ea0-484a-82a8-cafc0f144332",
   "metadata": {},
   "outputs": [
    {
     "data": {
      "text/html": [
       "<div>\n",
       "<style scoped>\n",
       "    .dataframe tbody tr th:only-of-type {\n",
       "        vertical-align: middle;\n",
       "    }\n",
       "\n",
       "    .dataframe tbody tr th {\n",
       "        vertical-align: top;\n",
       "    }\n",
       "\n",
       "    .dataframe thead th {\n",
       "        text-align: right;\n",
       "    }\n",
       "</style>\n",
       "<table border=\"1\" class=\"dataframe\">\n",
       "  <thead>\n",
       "    <tr style=\"text-align: right;\">\n",
       "      <th></th>\n",
       "      <th>국어</th>\n",
       "      <th>영어</th>\n",
       "      <th>수학</th>\n",
       "    </tr>\n",
       "    <tr>\n",
       "      <th>이름</th>\n",
       "      <th></th>\n",
       "      <th></th>\n",
       "      <th></th>\n",
       "    </tr>\n",
       "  </thead>\n",
       "  <tbody>\n",
       "    <tr>\n",
       "      <th>홍길동</th>\n",
       "      <td>90</td>\n",
       "      <td>88</td>\n",
       "      <td>95</td>\n",
       "    </tr>\n",
       "    <tr>\n",
       "      <th>김철수</th>\n",
       "      <td>85</td>\n",
       "      <td>92</td>\n",
       "      <td>87</td>\n",
       "    </tr>\n",
       "    <tr>\n",
       "      <th>박영희</th>\n",
       "      <td>78</td>\n",
       "      <td>80</td>\n",
       "      <td>91</td>\n",
       "    </tr>\n",
       "    <tr>\n",
       "      <th>이순신</th>\n",
       "      <td>92</td>\n",
       "      <td>90</td>\n",
       "      <td>94</td>\n",
       "    </tr>\n",
       "    <tr>\n",
       "      <th>강감찬</th>\n",
       "      <td>88</td>\n",
       "      <td>85</td>\n",
       "      <td>89</td>\n",
       "    </tr>\n",
       "    <tr>\n",
       "      <th>신사임당</th>\n",
       "      <td>95</td>\n",
       "      <td>93</td>\n",
       "      <td>92</td>\n",
       "    </tr>\n",
       "    <tr>\n",
       "      <th>율곡이이</th>\n",
       "      <td>89</td>\n",
       "      <td>87</td>\n",
       "      <td>90</td>\n",
       "    </tr>\n",
       "    <tr>\n",
       "      <th>정약용</th>\n",
       "      <td>91</td>\n",
       "      <td>90</td>\n",
       "      <td>93</td>\n",
       "    </tr>\n",
       "    <tr>\n",
       "      <th>허준</th>\n",
       "      <td>86</td>\n",
       "      <td>89</td>\n",
       "      <td>88</td>\n",
       "    </tr>\n",
       "    <tr>\n",
       "      <th>세종대왕</th>\n",
       "      <td>93</td>\n",
       "      <td>91</td>\n",
       "      <td>94</td>\n",
       "    </tr>\n",
       "  </tbody>\n",
       "</table>\n",
       "</div>"
      ],
      "text/plain": [
       "      국어  영어  수학\n",
       "이름              \n",
       "홍길동   90  88  95\n",
       "김철수   85  92  87\n",
       "박영희   78  80  91\n",
       "이순신   92  90  94\n",
       "강감찬   88  85  89\n",
       "신사임당  95  93  92\n",
       "율곡이이  89  87  90\n",
       "정약용   91  90  93\n",
       "허준    86  89  88\n",
       "세종대왕  93  91  94"
      ]
     },
     "execution_count": 67,
     "metadata": {},
     "output_type": "execute_result"
    }
   ],
   "source": [
    "df"
   ]
  },
  {
   "cell_type": "code",
   "execution_count": 4,
   "id": "295f9bff-fe51-479f-bfcc-de941083e12e",
   "metadata": {},
   "outputs": [],
   "source": [
    "if not 1:\n",
    "    print('hi')"
   ]
  },
  {
   "cell_type": "code",
   "execution_count": 2,
   "id": "39245177-a740-483c-9bdf-2a52783532e5",
   "metadata": {},
   "outputs": [
    {
     "name": "stdout",
     "output_type": "stream",
     "text": [
      "hi\n"
     ]
    }
   ],
   "source": [
    "if 2:\n",
    "    print('hi')"
   ]
  },
  {
   "cell_type": "code",
   "execution_count": 3,
   "id": "8b9d1d10-be0a-414e-b400-d1e3866d312e",
   "metadata": {},
   "outputs": [],
   "source": [
    "if 0:\n",
    "    print('hi')"
   ]
  },
  {
   "cell_type": "code",
   "execution_count": null,
   "id": "b96270f1-ae60-4601-bb20-30b36e3c0f79",
   "metadata": {},
   "outputs": [],
   "source": []
  }
 ],
 "metadata": {
  "kernelspec": {
   "display_name": "env_ktbai",
   "language": "python",
   "name": "env_ktbai"
  },
  "language_info": {
   "codemirror_mode": {
    "name": "ipython",
    "version": 3
   },
   "file_extension": ".py",
   "mimetype": "text/x-python",
   "name": "python",
   "nbconvert_exporter": "python",
   "pygments_lexer": "ipython3",
   "version": "3.13.7"
  }
 },
 "nbformat": 4,
 "nbformat_minor": 5
}

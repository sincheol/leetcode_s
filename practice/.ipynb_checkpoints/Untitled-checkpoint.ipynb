{
 "cells": [
  {
   "cell_type": "code",
   "execution_count": 4,
   "id": "76b8f4e8-d68e-4f45-bedf-d25dc0b14af4",
   "metadata": {},
   "outputs": [
    {
     "name": "stdout",
     "output_type": "stream",
     "text": [
      "클래스 메서드 실행\n",
      " -> 내 클래스 메서드\n",
      " -> 정적 메서드\n"
     ]
    }
   ],
   "source": [
    "class MyClass:\n",
    "    @classmethod\n",
    "    def class_method(cls):\n",
    "         print(\"클래스 메서드 실행\")\n",
    "         # cls.instance_method() # 에러! self가 없어서 호출 불가\n",
    "         cls.a_class_method() # 내 클래스 메서드 호출\n",
    "         cls.static_method()        # 정적 메서드 호출\n",
    "    \n",
    "    def instance_method(self):\n",
    "        print(\"인스턴스 메서드\")\n",
    "    \n",
    "    @classmethod\n",
    "    def a_class_method(cls):\n",
    "        print(\" -> 내 클래스 메서드\")\n",
    "    \n",
    "    @staticmethod\n",
    "    def static_method():\n",
    "        print(\" -> 정적 메서드\")\n",
    "        \n",
    "        \n",
    "MyClass.class_method()\n"
   ]
  },
  {
   "cell_type": "code",
   "execution_count": 3,
   "id": "3e49b344-7e11-4f3a-9909-fc5329c3b033",
   "metadata": {},
   "outputs": [
    {
     "name": "stdout",
     "output_type": "stream",
     "text": [
      "1\n",
      "2\n",
      "3\n"
     ]
    }
   ],
   "source": [
    "import asyncio\n",
    "\n",
    "async def fetch(n): #1초 기다림\n",
    "    await asyncio.sleep(1)\n",
    "    return n\n",
    "\n",
    "async def main():\n",
    "    results = await asyncio.gather(\n",
    "        fetch(1), fetch(2), fetch(3)\n",
    "    )\n",
    "    print(results)\n",
    "\n",
    "await main()"
   ]
  },
  {
   "cell_type": "code",
   "execution_count": 5,
   "id": "d32b8fbb-23e4-4b26-b352-4f398457de9b",
   "metadata": {},
   "outputs": [
    {
     "name": "stdout",
     "output_type": "stream",
     "text": [
      "1 시작\n",
      "1 완료\n",
      "2 시작\n",
      "2 완료\n",
      "2 4\n"
     ]
    }
   ],
   "source": [
    "import asyncio\n",
    "\n",
    "async def fetch_data(n):\n",
    "    print(f\"{n} 시작\")\n",
    "    await asyncio.sleep(1)  \n",
    "    print(f\"{n} 완료\")\n",
    "    return n * 2\n",
    "\n",
    "async def main():\n",
    "    result1 = await fetch_data(1)\n",
    "    result2 = await fetch_data(2)\n",
    "    print(result1, result2)\n",
    "\n",
    "# Colab/Jupyter에서는 asyncio.run() 대신 await 사용\n",
    "await main()"
   ]
  },
  {
   "cell_type": "code",
   "execution_count": 6,
   "id": "152d8a58-b6f2-4a61-9359-5ba8df4d51ef",
   "metadata": {},
   "outputs": [],
   "source": [
    "m = {}\n",
    "m[1] = 2"
   ]
  },
  {
   "cell_type": "code",
   "execution_count": 10,
   "id": "36e02073-0a67-4c1f-8cc8-8244bf5f5ccd",
   "metadata": {},
   "outputs": [
    {
     "data": {
      "text/plain": [
       "dict"
      ]
     },
     "execution_count": 10,
     "metadata": {},
     "output_type": "execute_result"
    }
   ],
   "source": [
    "type(m)"
   ]
  },
  {
   "cell_type": "code",
   "execution_count": 24,
   "id": "e3bc661f-6aea-450f-b0d9-003127c7b4e1",
   "metadata": {},
   "outputs": [],
   "source": [
    "l = [0,1]"
   ]
  },
  {
   "cell_type": "code",
   "execution_count": 25,
   "id": "0356f23d-0ecc-4536-915b-4b8fe6f8c3c4",
   "metadata": {},
   "outputs": [
    {
     "name": "stdout",
     "output_type": "stream",
     "text": [
      "CPU times: user 12.2 ms, sys: 2.88 ms, total: 15.1 ms\n",
      "Wall time: 12.9 ms\n"
     ]
    }
   ],
   "source": [
    "%%time\n",
    "for i in range(2,100000):\n",
    "    l.append(i)"
   ]
  },
  {
   "cell_type": "code",
   "execution_count": 26,
   "id": "603e1c7b-773e-490e-8ebe-d8aa1793edef",
   "metadata": {},
   "outputs": [],
   "source": [
    "d = {0:0,1:1}"
   ]
  },
  {
   "cell_type": "code",
   "execution_count": 27,
   "id": "49a256b7-15a0-4459-adb4-af93be2007d5",
   "metadata": {},
   "outputs": [
    {
     "name": "stdout",
     "output_type": "stream",
     "text": [
      "CPU times: user 16.4 ms, sys: 2.89 ms, total: 19.3 ms\n",
      "Wall time: 18.3 ms\n"
     ]
    }
   ],
   "source": [
    "%%time\n",
    "for i in range(2,100000):\n",
    "    d[i] = i"
   ]
  },
  {
   "cell_type": "code",
   "execution_count": 1,
   "id": "699b50bf-f8a4-4c3c-9d8f-9b0cf95b7951",
   "metadata": {},
   "outputs": [],
   "source": [
    "\n",
    "memo = {}\n",
    "\n",
    "def fib_a(n):\n",
    "    if n in memo:\n",
    "        return memo[n]\n",
    "    if n <= 1:\n",
    "        return n\n",
    "    memo[n] = fib_a(n-1) + fib_a(n-2)\n",
    "    return memo[n]\n",
    "\n"
   ]
  },
  {
   "cell_type": "code",
   "execution_count": 2,
   "id": "600ca4eb-36e7-4ec5-b199-39a3a68fe453",
   "metadata": {},
   "outputs": [],
   "source": [
    "\n",
    "def fib_b(n):\n",
    "    if n <= 1:\n",
    "        return n\n",
    "    dp = [0, 1]\n",
    "    for i in range(2, n+1):\n",
    "        dp.append(dp[i-1] + dp[i-2])\n",
    "    return dp[n]\n",
    "\n"
   ]
  },
  {
   "cell_type": "code",
   "execution_count": 240,
   "id": "8e2d45f7-95db-4a46-8545-ae1e851e37b7",
   "metadata": {},
   "outputs": [
    {
     "name": "stdout",
     "output_type": "stream",
     "text": [
      "60.8 ns ± 0.148 ns per loop (mean ± std. dev. of 7 runs, 10,000,000 loops each)\n"
     ]
    }
   ],
   "source": [
    "%%timeit\n",
    "fib_a(1000)"
   ]
  },
  {
   "cell_type": "code",
   "execution_count": 241,
   "id": "46608162-eb26-4691-a031-55fab4d69169",
   "metadata": {},
   "outputs": [
    {
     "name": "stdout",
     "output_type": "stream",
     "text": [
      "67 μs ± 552 ns per loop (mean ± std. dev. of 7 runs, 10,000 loops each)\n"
     ]
    }
   ],
   "source": [
    "%%timeit\n",
    "fib_b(1000)"
   ]
  },
  {
   "cell_type": "code",
   "execution_count": null,
   "id": "1b0bfd23-7248-4fca-a19d-42adb4eb02d5",
   "metadata": {},
   "outputs": [],
   "source": []
  }
 ],
 "metadata": {
  "kernelspec": {
   "display_name": "env_ktbai",
   "language": "python",
   "name": "env_ktbai"
  },
  "language_info": {
   "codemirror_mode": {
    "name": "ipython",
    "version": 3
   },
   "file_extension": ".py",
   "mimetype": "text/x-python",
   "name": "python",
   "nbconvert_exporter": "python",
   "pygments_lexer": "ipython3",
   "version": "3.13.7"
  }
 },
 "nbformat": 4,
 "nbformat_minor": 5
}

{
 "cells": [
  {
   "cell_type": "code",
   "execution_count": 4,
   "id": "76b8f4e8-d68e-4f45-bedf-d25dc0b14af4",
   "metadata": {},
   "outputs": [
    {
     "name": "stdout",
     "output_type": "stream",
     "text": [
      "클래스 메서드 실행\n",
      " -> 내 클래스 메서드\n",
      " -> 정적 메서드\n"
     ]
    }
   ],
   "source": [
    "class MyClass:\n",
    "    @classmethod\n",
    "    def class_method(cls):\n",
    "         print(\"클래스 메서드 실행\")\n",
    "         # cls.instance_method() # 에러! self가 없어서 호출 불가\n",
    "         cls.a_class_method() # 내 클래스 메서드 호출\n",
    "         cls.static_method()        # 정적 메서드 호출\n",
    "    \n",
    "    def instance_method(self):\n",
    "        print(\"인스턴스 메서드\")\n",
    "    \n",
    "    @classmethod\n",
    "    def a_class_method(cls):\n",
    "        print(\" -> 내 클래스 메서드\")\n",
    "    \n",
    "    @staticmethod\n",
    "    def static_method():\n",
    "        print(\" -> 정적 메서드\")\n",
    "        \n",
    "        \n",
    "MyClass.class_method()\n"
   ]
  },
  {
   "cell_type": "code",
   "execution_count": null,
   "id": "3e49b344-7e11-4f3a-9909-fc5329c3b033",
   "metadata": {},
   "outputs": [],
   "source": []
  }
 ],
 "metadata": {
  "kernelspec": {
   "display_name": "env_ktbai",
   "language": "python",
   "name": "env_ktbai"
  },
  "language_info": {
   "codemirror_mode": {
    "name": "ipython",
    "version": 3
   },
   "file_extension": ".py",
   "mimetype": "text/x-python",
   "name": "python",
   "nbconvert_exporter": "python",
   "pygments_lexer": "ipython3",
   "version": "3.13.7"
  }
 },
 "nbformat": 4,
 "nbformat_minor": 5
}
